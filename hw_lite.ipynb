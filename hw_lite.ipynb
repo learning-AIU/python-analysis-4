{
  "nbformat": 4,
  "nbformat_minor": 0,
  "metadata": {
    "colab": {
      "provenance": []
    },
    "kernelspec": {
      "name": "python3",
      "display_name": "Python 3"
    },
    "language_info": {
      "name": "python"
    }
  },
  "cells": [
    {
      "cell_type": "markdown",
      "metadata": {
        "id": "5xfJ0K1qdyoq"
      },
      "source": [
        "# Задание 1\n",
        "\n",
        "По материалам блокнота с занятия установите все родительские классы для класса ```IOError```."
      ]
    },
    {
      "cell_type": "code",
      "metadata": {
        "id": "fp97dybI1DnC"
      },
      "source": [
        "# Ваше решение"
      ],
      "execution_count": null,
      "outputs": []
    },
    {
      "cell_type": "markdown",
      "metadata": {
        "id": "Owu684lKKrjJ"
      },
      "source": [
        "# Задание 2\n",
        "\n",
        "Создайте собственный класс ```Worker``` работника компании. Добавьте следующие атрибуты данных:\n",
        "\n",
        "*   ```name```(фамилия)\n",
        "*   ```job```(должность)\n",
        "*   ```pay```(зарплата)\n",
        "\n",
        "Создайте метод класса ```worker_raise(self)```, который повышает зарплату на ```prcnt``` процентов от имеющегося значения. \n",
        "\n",
        "Создайте работника и выведите  его ЗП при устройстве на работу и после повышения на 20%."
      ]
    },
    {
      "cell_type": "code",
      "metadata": {
        "id": "1UsP7-o0OZYO"
      },
      "source": [
        "# Ваше решение"
      ],
      "execution_count": null,
      "outputs": []
    },
    {
      "cell_type": "markdown",
      "metadata": {
        "id": "O81dyG1mdyo2"
      },
      "source": [
        "# Задание 3\n",
        "\n",
        "По материалам лекции отобразите все атрибуты и методы класса `Worker()`, оформите вывод красиво при помощи библиотеки `pprint`."
      ]
    },
    {
      "cell_type": "code",
      "metadata": {
        "id": "D4s7cNhEYyn_"
      },
      "source": [
        "# Ваше решение"
      ],
      "execution_count": null,
      "outputs": []
    }
  ]
}
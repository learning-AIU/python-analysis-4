{
 "cells": [
  {
   "cell_type": "markdown",
   "metadata": {
    "id": "gMwyKhlQJ1mf"
   },
   "source": [
    "# Задание\n",
    "\n",
    "1. Создайте класс `Artist()`, описывающий навыки преподавателя (три на ваш выбор). \n",
    "2. Создайте класс-потомок `Purple()`, имеющий дополнительный навык и функцию вывода атрибутов `about_me`\n",
    "3. Создайте экземпляр класса `Purple()` и выведите на экран всю информацию о нем.\n",
    "4. Создайте класс `Purple_2()` и, используя полиморфизм, и дополните вывод на экран фразой \"Я пока что только изучаю это в университете\".\n",
    "5. Создайте экземпляр класса `Purple_2()` и выведите на экран всю информацию о нем."
   ]
  },
  {
   "cell_type": "code",
   "execution_count": 1,
   "metadata": {},
   "outputs": [],
   "source": [
    "from itertools import chain\n",
    "from random import sample, randrange"
   ]
  },
  {
   "cell_type": "code",
   "execution_count": 2,
   "metadata": {},
   "outputs": [],
   "source": [
    "age_groups = (\n",
    "    range(3, 6), \n",
    "    range(6, 9),\n",
    "    range(9, 14),\n",
    "    range(14, 18),\n",
    "    range(18, 60),\n",
    "    range(60, 100),\n",
    ")"
   ]
  },
  {
   "cell_type": "code",
   "execution_count": 3,
   "metadata": {},
   "outputs": [],
   "source": [
    "def sentence_enumeration(\n",
    "        *words: str, \n",
    "        last_conjunction: bool = True,\n",
    "        all_conjunctions: bool = False\n",
    "    ) -> str:\n",
    "    \"\"\"Возвращает строку с запятыми и/или союзами в качестве разделителей перечисления в предложении.\"\"\"\n",
    "    if all_conjunctions:\n",
    "        return ' и '.join(words)\n",
    "    else:\n",
    "        last_sep = ' и ' if last_conjunction else ', '\n",
    "        start = ', '.join(words[:-2])\n",
    "        end = last_sep.join(words[-2:])\n",
    "        return ', '.join(s for s in [start, end] if s)"
   ]
  },
  {
   "cell_type": "code",
   "execution_count": 4,
   "metadata": {},
   "outputs": [],
   "source": [
    "class tuple_r(tuple):\n",
    "    \"\"\"\n",
    "    Кортеж итерируемых объектов — расширение встроенного tuple.\n",
    "    \"\"\"\n",
    "    def __contains__(self, item):\n",
    "        return item in chain.from_iterable(self)\n",
    "    \n",
    "    @property\n",
    "    def min(self):\n",
    "        \"\"\"Возвращает минимальное значение среди всех элементов всех итерируемых объектов.\"\"\"\n",
    "        return min(chain.from_iterable(self))\n",
    "    \n",
    "    @property\n",
    "    def max(self):\n",
    "        \"\"\"Возвращает максимальное значение среди всех элементов всех итерируемых объектов.\"\"\"\n",
    "        return max(chain.from_iterable(self))\n",
    "    \n",
    "    def __add__(self, another):\n",
    "        return tuple_r(super().__add__(another))\n",
    "\n",
    "    def __radd__(self, another):\n",
    "        return tuple_r(super().__radd__(another))\n"
   ]
  },
  {
   "cell_type": "code",
   "execution_count": 5,
   "metadata": {
    "id": "88haJVI2BVKs"
   },
   "outputs": [],
   "source": [
    "class Teacher:\n",
    "    \n",
    "    def __init__(self, name: str, subject: str, *subjects: str):\n",
    "        self.name: str = name\n",
    "        self.is_professor: bool = False\n",
    "        self.subjects: list[str] = [subject] + list(subjects)\n",
    "        self.age_groups: tuple_r[range] = tuple_r(sample(age_groups, 3))\n"
   ]
  },
  {
   "cell_type": "code",
   "execution_count": 6,
   "metadata": {},
   "outputs": [],
   "source": [
    "class InfantTeacher(Teacher):\n",
    "    \n",
    "    def __init__(self, name: str, subject: str, *subjects: str):\n",
    "        super().__init__(name, subject, *subjects)\n",
    "        if age_groups[0] not in self.age_groups:\n",
    "            self.age_groups: tuple_r[range] = tuple_r(age_groups[0:1]) + self.age_groups\n",
    "        self.storyteller_lvl = randrange(2, 9)\n",
    "    \n",
    "    def about_me(self) -> str:\n",
    "        \"\"\"Возвращает строку с резюме преподавателя.\"\"\"\n",
    "        return (\n",
    "            ('Профессор' if self.is_professor else 'Преподаватель') + f' {self.name}\\n' + \n",
    "            f'Работает с детьми в возрасте от {self.age_groups.min} до {self.age_groups.max} лет\\n' +\n",
    "            f'Преподаёт {sentence_enumeration(*self.subjects)}\\n'\n",
    "            f'Рассказчик {self.storyteller_lvl} уровня'\n",
    "        )\n"
   ]
  },
  {
   "cell_type": "code",
   "execution_count": 7,
   "metadata": {},
   "outputs": [
    {
     "name": "stdout",
     "output_type": "stream",
     "text": [
      "Преподаватель Олег Златоустов\n",
      "Работает с детьми в возрасте от 3 до 59 лет\n",
      "Преподаёт литературу, русский язык и пение\n",
      "Рассказчик 4 уровня\n"
     ]
    }
   ],
   "source": [
    "oleg = InfantTeacher('Олег Златоустов', 'литературу', 'русский язык', 'пение')\n",
    "print(oleg.about_me())"
   ]
  }
 ],
 "metadata": {
  "colab": {
   "provenance": []
  },
  "kernelspec": {
   "display_name": "Python 3 (ipykernel)",
   "language": "python",
   "name": "python3"
  },
  "language_info": {
   "codemirror_mode": {
    "name": "ipython",
    "version": 3
   },
   "file_extension": ".py",
   "mimetype": "text/x-python",
   "name": "python",
   "nbconvert_exporter": "python",
   "pygments_lexer": "ipython3",
   "version": "3.11.2"
  }
 },
 "nbformat": 4,
 "nbformat_minor": 1
}

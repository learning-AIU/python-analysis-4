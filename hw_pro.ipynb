{
  "nbformat": 4,
  "nbformat_minor": 0,
  "metadata": {
    "colab": {
      "provenance": []
    },
    "kernelspec": {
      "name": "python3",
      "display_name": "Python 3"
    },
    "language_info": {
      "name": "python"
    }
  },
  "cells": [
    {
      "cell_type": "markdown",
      "metadata": {
        "id": "gMwyKhlQJ1mf"
      },
      "source": [
        "# Задание\n",
        "\n",
        "1. Создайте класс `Artist()`, описывающий навыки преподавателя (три на ваш выбор). \n",
        "2. Создайте класс-потомок `Purple()`, имеющий дополнительный навык и функцию вывода атрибутов `about_me`\n",
        "3. Создайте экземпляр класса `Purple()` и выведите на экран всю информацию о нем.\n",
        "4. Создайте класс `Purple_2()` и, используя полиморфизм, и дополните вывод на экран фразой \"Я пока что только изучаю это в университете\".\n",
        "5. Создайте экземпляр класса `Purple_2()` и выведите на экран всю информацию о нем."
      ]
    },
    {
      "cell_type": "code",
      "metadata": {
        "id": "88haJVI2BVKs"
      },
      "source": [
        "# Ваше решение"
      ],
      "execution_count": null,
      "outputs": []
    }
  ]
}
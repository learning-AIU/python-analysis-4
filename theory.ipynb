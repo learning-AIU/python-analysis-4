{
  "nbformat": 4,
  "nbformat_minor": 0,
  "metadata": {
    "colab": {
      "provenance": []
    },
    "kernelspec": {
      "name": "python3",
      "display_name": "Python 3"
    }
  },
  "cells": [
    {
      "cell_type": "markdown",
      "metadata": {
        "id": "agFI-MITt5fI"
      },
      "source": [
        "# Введение "
      ]
    },
    {
      "cell_type": "markdown",
      "metadata": {
        "id": "gCj8rGXEt-Hk"
      },
      "source": [
        "Выделим 3 основных стиля программирования в Python, первые два из которых нам хорошо знакомы:\n",
        "\n",
        "*   Императивное (процедурное) - программа представляет собой последовательность операторов для изменения состояния программы, где переменные служат для хранения этого состояния\n",
        "```\n",
        "a = 2\n",
        "b = 3\n",
        "c = a + b\n",
        "```\n",
        "*   Функциональное - программа представляет собой последовательность вызовов функций для действия над данными\n",
        "```\n",
        "data = [1, 2, 3]\n",
        "sq = lambda x: x**2\n",
        "print(map(sq, data))\n",
        "```\n",
        "*   Объектно-ориентированное программирование - основой программы является объект, представляющий собой совокупность данных и правил их преобразования\n",
        "```\n",
        "class A():\n",
        "  pass\n",
        "```\n",
        "\n",
        "\n",
        "\n",
        "\n"
      ]
    },
    {
      "cell_type": "markdown",
      "metadata": {
        "id": "57JoV6uB4Ma1"
      },
      "source": [
        "# Первое знакомство с ООП в Python\n",
        "\n",
        "Изучим основные понятия."
      ]
    },
    {
      "cell_type": "markdown",
      "metadata": {
        "id": "r4PNjw9z4pIn"
      },
      "source": [
        "## Класс и экземпляр (объект) класса"
      ]
    },
    {
      "cell_type": "markdown",
      "metadata": {
        "id": "QRjqhFzsY10w"
      },
      "source": [
        "**Класс** можно воспринимать как некую схему, чертеж, по которому конструируются его экземпляры. \n",
        "\n",
        "Представьте, что нам нужно создать авто. С чего начинается разработка? Да, с плана, чертежей и схем. А уже потом по этим схемам собирается машина. И их таких однотипных можно создать множество. Так следует воспринимать класс – это схема для построения однотипных экземпляров данного класса.\n",
        "\n",
        "**Экземпляры** этого **класса** — конкретные машины. И хотя они и собраны по одному чертежу, имеют колесную базу, двери и лобовые стекла, они обладают собственным уникальным состоянием. Состояние — это ряд меняющихся свойств. Поэтому у двух разных объектов одного класса мы можем наблюдать разный цвет, материал обивки салона, мощность двигателя. Само наличие этих свойств и их типы описываются в классе.\n",
        "\n",
        "Таким образом, класс — это описание того, какими свойствами и поведением будет обладать объект. А объект — это экземпляр с собственным состоянием этих свойств.\n",
        "\n",
        "\n",
        "\n"
      ]
    },
    {
      "cell_type": "markdown",
      "metadata": {
        "id": "p9ene1UUpFE5"
      },
      "source": [
        "Для примера создадим ниже класс, который задается ключевым словом `class`, далее указываем его название с большой буквы (так договорились) и ставим дветочие `:` после названия. \n",
        "\n",
        "Атрибуты - данные класса, методы - правила работы с данными. Методы по синтаксису очень похожи на функции, но ничего не возвращают, поэтому строки с `return` нет."
      ]
    },
    {
      "cell_type": "markdown",
      "metadata": {
        "id": "fYQmimDLyMpN"
      },
      "source": [
        "После запуска ячейки выше интерпретатор запомнит, что существует класс `Car` и будет к нему обращаться, если встретит: "
      ]
    },
    {
      "cell_type": "code",
      "metadata": {
        "id": "Y0x8dzeGz1Jl"
      },
      "source": [
        "# Создаем класс\n",
        "\n",
        "class Car():\n",
        "  \n",
        "  # создаем атрибуты класса\n",
        "  model = 'GLC'\n",
        "  mark = 'mercedes'\n",
        "  year = 2018\n",
        "\n",
        "  # создание методов класса\n",
        "  def start(self):\n",
        "    print('Поехали!')\n",
        "  def stop(self):\n",
        "    print('Остановились!')"
      ],
      "execution_count": null,
      "outputs": []
    },
    {
      "cell_type": "markdown",
      "metadata": {
        "id": "mt0ymONjY6vi"
      },
      "source": [
        "Выше мы создали класс (он же чертеж будущего объекта), а сейчас хотим создать объект класса (он же конкретный объект по чертежу с описанием, все строки которого нам надо заполнить). Для этого придумываем название объекта и обращаемся к классу, используя `()` :"
      ]
    },
    {
      "cell_type": "code",
      "metadata": {
        "id": "6YAf5jihzuAe"
      },
      "source": [
        "# Создаем конкретный экземпляр класса\n",
        "\n",
        "my_car = Car()"
      ],
      "execution_count": null,
      "outputs": []
    },
    {
      "cell_type": "markdown",
      "metadata": {
        "id": "bdXLS7lr0aKC"
      },
      "source": [
        "Теперь у нас экземпляр класса, с которым мы можем работать."
      ]
    },
    {
      "cell_type": "markdown",
      "metadata": {
        "id": "pz4MRCVR5_T0"
      },
      "source": [
        "## Атрибуты классов и экземпляров классов"
      ]
    },
    {
      "cell_type": "markdown",
      "metadata": {
        "id": "Ktu0VRJgzu2u"
      },
      "source": [
        "Обратимся сначала к его атрибуту, а потом к его методу. Делается это при помощи `.` и названия атрибута/метода, и во втором случае еще и `()`:"
      ]
    },
    {
      "cell_type": "code",
      "metadata": {
        "id": "PqADA-SY0rcc",
        "colab": {
          "base_uri": "https://localhost:8080/"
        },
        "outputId": "76f402d9-da9b-40d0-ddef-cda737b4c5cd"
      },
      "source": [
        "# обращение к атрибуту\n",
        "print(my_car.model) \n",
        "\n",
        "# обращение к методу\n",
        "my_car.start()"
      ],
      "execution_count": null,
      "outputs": [
        {
          "output_type": "stream",
          "name": "stdout",
          "text": [
            "GLC\n",
            "Поехали!\n"
          ]
        }
      ]
    },
    {
      "cell_type": "markdown",
      "metadata": {
        "id": "55GKksmv-cJs"
      },
      "source": [
        "Отличие Python от большинства языков программирования в том, что атрибуты могут пополняться. В том же С++ мы можем указать атрибуты при создании класса, никакой возможности изменять или дополнять их (тем более в конкретном экземпляре класса) не предусмотрено.\n",
        "\n",
        "Python же позволяет расширять список атрибутов экземпляра. Для этого мы обращаемся к экземпляру класса по имени (`my_car`), через `.` даем название новому атрибуту (`volume`) и присваиваем ему значение (`2.0`):"
      ]
    },
    {
      "cell_type": "code",
      "metadata": {
        "colab": {
          "base_uri": "https://localhost:8080/"
        },
        "id": "8BickLp7-xMy",
        "outputId": "852c8107-690c-4c45-f579-0a0f3e44ca95"
      },
      "source": [
        "# Создание дополнительного атрибута класса\n",
        "\n",
        "my_car.volume = 2.0\n",
        "print(my_car.volume)"
      ],
      "execution_count": null,
      "outputs": [
        {
          "output_type": "stream",
          "name": "stdout",
          "text": [
            "2.0\n"
          ]
        }
      ]
    },
    {
      "cell_type": "markdown",
      "metadata": {
        "id": "_HV8xO6y_vlT"
      },
      "source": [
        "У других экземпляров этого класса нового атрибута не появится. Потому что новый экземпляр унаследует атрибуты от класса, а их мы не меняли:"
      ]
    },
    {
      "cell_type": "code",
      "metadata": {
        "id": "OYy5gt371bjq",
        "colab": {
          "base_uri": "https://localhost:8080/"
        },
        "outputId": "f52a1deb-0036-477f-ada5-e9e2c61e218b"
      },
      "source": [
        "# Создание еще одного экземпляра класса Car\n",
        "\n",
        "my_wife_car = Car()\n",
        "print(my_wife_car.model)"
      ],
      "execution_count": null,
      "outputs": [
        {
          "output_type": "stream",
          "name": "stdout",
          "text": [
            "GLC\n"
          ]
        }
      ]
    },
    {
      "cell_type": "code",
      "metadata": {
        "id": "Y0gdBPzL2BDP",
        "colab": {
          "base_uri": "https://localhost:8080/",
          "height": 163
        },
        "outputId": "ce4722aa-f2a7-4b6f-acd6-1ceee6a5a097"
      },
      "source": [
        "my_wife_car.volume # Выдаст ошибку AttributeError!"
      ],
      "execution_count": null,
      "outputs": [
        {
          "output_type": "error",
          "ename": "AttributeError",
          "evalue": "ignored",
          "traceback": [
            "\u001b[0;31m---------------------------------------------------------------------------\u001b[0m",
            "\u001b[0;31mAttributeError\u001b[0m                            Traceback (most recent call last)",
            "\u001b[0;32m<ipython-input-6-e871fb133130>\u001b[0m in \u001b[0;36m<module>\u001b[0;34m()\u001b[0m\n\u001b[0;32m----> 1\u001b[0;31m \u001b[0mmy_wife_car\u001b[0m\u001b[0;34m.\u001b[0m\u001b[0mvolume\u001b[0m \u001b[0;31m# Выдаст ошибку AttributeError!\u001b[0m\u001b[0;34m\u001b[0m\u001b[0;34m\u001b[0m\u001b[0m\n\u001b[0m",
            "\u001b[0;31mAttributeError\u001b[0m: 'Car' object has no attribute 'volume'"
          ]
        }
      ]
    },
    {
      "cell_type": "markdown",
      "metadata": {
        "id": "WICqefw0BCxM"
      },
      "source": [
        "Чтобы просмотреть доступные атрибуты класса:"
      ]
    },
    {
      "cell_type": "code",
      "metadata": {
        "colab": {
          "base_uri": "https://localhost:8080/"
        },
        "id": "urJviVdgBH-E",
        "outputId": "ddd054b4-fdf7-46df-82e4-5cc248e9c364"
      },
      "source": [
        "dir(Car)"
      ],
      "execution_count": null,
      "outputs": [
        {
          "output_type": "execute_result",
          "data": {
            "text/plain": [
              "['__class__',\n",
              " '__delattr__',\n",
              " '__dict__',\n",
              " '__dir__',\n",
              " '__doc__',\n",
              " '__eq__',\n",
              " '__format__',\n",
              " '__ge__',\n",
              " '__getattribute__',\n",
              " '__gt__',\n",
              " '__hash__',\n",
              " '__init__',\n",
              " '__init_subclass__',\n",
              " '__le__',\n",
              " '__lt__',\n",
              " '__module__',\n",
              " '__ne__',\n",
              " '__new__',\n",
              " '__reduce__',\n",
              " '__reduce_ex__',\n",
              " '__repr__',\n",
              " '__setattr__',\n",
              " '__sizeof__',\n",
              " '__str__',\n",
              " '__subclasshook__',\n",
              " '__weakref__',\n",
              " 'mark',\n",
              " 'model',\n",
              " 'start',\n",
              " 'stop',\n",
              " 'year']"
            ]
          },
          "metadata": {},
          "execution_count": 7
        }
      ]
    },
    {
      "cell_type": "markdown",
      "metadata": {
        "id": "zk7FbcFQBSuE"
      },
      "source": [
        "Для более компактного вывода воспользуемся библиотекой `pprint`:"
      ]
    },
    {
      "cell_type": "code",
      "metadata": {
        "id": "YhBMGziJ2KNR",
        "colab": {
          "base_uri": "https://localhost:8080/"
        },
        "outputId": "f47168fb-93d7-4c51-fd12-7e9a31e9b20a"
      },
      "source": [
        "from pprint import pprint\n",
        "\n",
        "pprint(dir(Car),      # название класса\n",
        "       compact=True,  # компактный ввод или нет\n",
        "       width=60)      # ширина окна вывода"
      ],
      "execution_count": null,
      "outputs": [
        {
          "output_type": "stream",
          "name": "stdout",
          "text": [
            "['__class__', '__delattr__', '__dict__', '__dir__',\n",
            " '__doc__', '__eq__', '__format__', '__ge__',\n",
            " '__getattribute__', '__gt__', '__hash__', '__init__',\n",
            " '__init_subclass__', '__le__', '__lt__', '__module__',\n",
            " '__ne__', '__new__', '__reduce__', '__reduce_ex__',\n",
            " '__repr__', '__setattr__', '__sizeof__', '__str__',\n",
            " '__subclasshook__', '__weakref__', 'mark', 'model',\n",
            " 'start', 'stop', 'year']\n"
          ]
        }
      ]
    },
    {
      "cell_type": "markdown",
      "metadata": {
        "id": "U4O0AO4OBw-E"
      },
      "source": [
        "Аналогично просмотрим методы и атрибуты экземпляра класса:"
      ]
    },
    {
      "cell_type": "code",
      "metadata": {
        "id": "2f7c3YFI2meC",
        "colab": {
          "base_uri": "https://localhost:8080/"
        },
        "outputId": "6672533b-0d76-4e1d-e8ad-bccff4ef1959"
      },
      "source": [
        "pprint(dir(my_car), compact=True, width=60)"
      ],
      "execution_count": null,
      "outputs": [
        {
          "output_type": "stream",
          "name": "stdout",
          "text": [
            "['__class__', '__delattr__', '__dict__', '__dir__',\n",
            " '__doc__', '__eq__', '__format__', '__ge__',\n",
            " '__getattribute__', '__gt__', '__hash__', '__init__',\n",
            " '__init_subclass__', '__le__', '__lt__', '__module__',\n",
            " '__ne__', '__new__', '__reduce__', '__reduce_ex__',\n",
            " '__repr__', '__setattr__', '__sizeof__', '__str__',\n",
            " '__subclasshook__', '__weakref__', 'mark', 'model',\n",
            " 'start', 'stop', 'volume', 'year']\n"
          ]
        }
      ]
    },
    {
      "cell_type": "code",
      "metadata": {
        "colab": {
          "base_uri": "https://localhost:8080/"
        },
        "id": "alMqv6n2CXt2",
        "outputId": "6aa5666f-2144-4284-eb20-fef885703c62"
      },
      "source": [
        "pprint(dir(my_wife_car), compact=True, width=60)"
      ],
      "execution_count": null,
      "outputs": [
        {
          "output_type": "stream",
          "name": "stdout",
          "text": [
            "['__class__', '__delattr__', '__dict__', '__dir__',\n",
            " '__doc__', '__eq__', '__format__', '__ge__',\n",
            " '__getattribute__', '__gt__', '__hash__', '__init__',\n",
            " '__init_subclass__', '__le__', '__lt__', '__module__',\n",
            " '__ne__', '__new__', '__reduce__', '__reduce_ex__',\n",
            " '__repr__', '__setattr__', '__sizeof__', '__str__',\n",
            " '__subclasshook__', '__weakref__', 'mark', 'model',\n",
            " 'start', 'stop', 'year']\n"
          ]
        }
      ]
    },
    {
      "cell_type": "markdown",
      "metadata": {
        "id": "puOFN8lvCcyM"
      },
      "source": [
        "Обратите внимание, что атрибут `volume` есть только у объекта `my_car`, у `my_wife_car` его нет!\n",
        "\n",
        "Мы можем расширять атрибуты и методы конкретного экземпляра класса по ходу выполнения программы."
      ]
    },
    {
      "cell_type": "markdown",
      "metadata": {
        "id": "30NGBQl050JU"
      },
      "source": [
        "## Методы класса и экземпляров класса"
      ]
    },
    {
      "cell_type": "markdown",
      "metadata": {
        "id": "-j-X_MP-AVlF"
      },
      "source": [
        "Рассмотрим их, в качестве аналогии используя полку с книгами (книги можем брать и ставить обратно).\n",
        "\n",
        "Создадим класс `Book`, атрибут класса `book_count`, метод класса `how_many_books()`  (при помощи ключевого слова `@staticmethod`, где `@` обозначает, что оно выступает в роли декоратора, об этом чуть позже). \n",
        "\n",
        "И создадим метод экземпляра класса, с отличием в том, что в скобках мы укажем `self` (ключевое слово-указатель на тот экземпляр класса, который вызвал эту функцию), еще аргументы `name`, `title`:"
      ]
    },
    {
      "cell_type": "code",
      "metadata": {
        "id": "jm9lAxGIAlwF"
      },
      "source": [
        "# Создадим класс\n",
        "\n",
        "class Book():\n",
        "  \n",
        "  # Атрибуты класса\n",
        "  book_count = 0\n",
        "  \n",
        "  # Метод класса\n",
        "  @staticmethod\n",
        "  def how_many_books():\n",
        "    return Book.book_count\n",
        "\n",
        "  # Метод экземпляра класса\n",
        "  def add_book(self, name, title):\n",
        "    print('Add book!')\n",
        "    self.name = name\n",
        "    self.title = title\n",
        "    Book.book_count += 1"
      ],
      "execution_count": null,
      "outputs": []
    },
    {
      "cell_type": "markdown",
      "metadata": {
        "id": "r4Gi62CeRHfe"
      },
      "source": [
        "Что произойдет, если мы создадим объект класса `Book` и захотим обратиться к методу добавления книги на полку (`add_book`)?\n",
        "\n",
        "Мы обратимся к функции, передадим ссылку на наш объект и создадим у нашего объекта атрибут `name` (его в списке атрибутов изначально не было, только `book_count`) и присвоим ему значение из скобок. Со вторым аналогично.\n",
        "\n",
        "То есть можно задать атрибут объекта вручную, как мы делали в примере выше с машинами, а можно в рамках методов класса.\n",
        "\n",
        "Увеличиваем значение атрибута `book_count` при каждом вызове `add_book` на единицу. И добавим вывод фразы 'Add book!'"
      ]
    },
    {
      "cell_type": "code",
      "metadata": {
        "colab": {
          "base_uri": "https://localhost:8080/"
        },
        "id": "wZtpW-pxUVBL",
        "outputId": "ad70b60e-d788-4c81-ca9a-2a11709b5668"
      },
      "source": [
        "# Узнаем значение атрибута до добавления книг на полку\n",
        "\n",
        "print(Book.book_count)"
      ],
      "execution_count": null,
      "outputs": [
        {
          "output_type": "stream",
          "name": "stdout",
          "text": [
            "0\n"
          ]
        }
      ]
    },
    {
      "cell_type": "code",
      "metadata": {
        "colab": {
          "base_uri": "https://localhost:8080/"
        },
        "id": "OsN3xIRjUg33",
        "outputId": "261d3a7a-1ee8-4cb9-ef23-95e2c52a48a8"
      },
      "source": [
        "# Добавим книгу\n",
        "\n",
        "book1 = Book()\n",
        "book1.add_book(name='Stephen King', title='It')\n",
        "\n",
        "# Узнаем значение атрибута \n",
        "print(Book.book_count)"
      ],
      "execution_count": null,
      "outputs": [
        {
          "output_type": "stream",
          "name": "stdout",
          "text": [
            "Add book!\n",
            "1\n"
          ]
        }
      ]
    },
    {
      "cell_type": "code",
      "metadata": {
        "colab": {
          "base_uri": "https://localhost:8080/"
        },
        "id": "fcc_hJ_YUjxf",
        "outputId": "82a095d3-2e3e-4ee9-9545-136f3166c2ee"
      },
      "source": [
        "# Добавим еще одну книгу\n",
        "\n",
        "book2 = Book()\n",
        "book2.add_book(name='Stephen King', title='No it')\n",
        "\n",
        "# Узнаем значение атрибута \n",
        "print(Book.book_count)"
      ],
      "execution_count": null,
      "outputs": [
        {
          "output_type": "stream",
          "name": "stdout",
          "text": [
            "Add book!\n",
            "2\n"
          ]
        }
      ]
    },
    {
      "cell_type": "code",
      "metadata": {
        "colab": {
          "base_uri": "https://localhost:8080/"
        },
        "id": "LXPK8r-aXeny",
        "outputId": "cf5c6164-b38d-4e5a-acd6-a052c02b221b"
      },
      "source": [
        "# Обратимся к экземпляру класса и узнаем название\n",
        "\n",
        "print(book1.name)"
      ],
      "execution_count": null,
      "outputs": [
        {
          "output_type": "stream",
          "name": "stdout",
          "text": [
            "Stephen King\n"
          ]
        }
      ]
    },
    {
      "cell_type": "code",
      "metadata": {
        "id": "94EWfJCv3DnJ",
        "colab": {
          "base_uri": "https://localhost:8080/"
        },
        "outputId": "5c310fca-b9f9-4cb3-bad3-2195b5645918"
      },
      "source": [
        "# Обратимся к классу и к экземплярам и применим метод .how_many_books()\n",
        "\n",
        "print(Book.how_many_books())\n",
        "print(book1.how_many_books())\n",
        "print(book2.how_many_books())"
      ],
      "execution_count": null,
      "outputs": [
        {
          "output_type": "stream",
          "name": "stdout",
          "text": [
            "2\n",
            "2\n",
            "2\n"
          ]
        }
      ]
    },
    {
      "cell_type": "markdown",
      "metadata": {
        "id": "VoaxSAibXvWY"
      },
      "source": [
        "Попробуем обратится напрямую к классу при помощи метода `.how_many_books()`. Получим в ответ ошибку, потому что у него отсутствует позиционный аргумент `self`, т.е. нет объекта класса, к которому мы могли бы привязать примнение метода:"
      ]
    },
    {
      "cell_type": "code",
      "metadata": {
        "colab": {
          "base_uri": "https://localhost:8080/",
          "height": 163
        },
        "id": "m9zbasjUXPYR",
        "outputId": "5eb12131-43b3-40e1-c9fc-e2c310b94d04"
      },
      "source": [
        "Book.add_book(name='Stephen King', title='No it')"
      ],
      "execution_count": null,
      "outputs": [
        {
          "output_type": "error",
          "ename": "TypeError",
          "evalue": "ignored",
          "traceback": [
            "\u001b[0;31m---------------------------------------------------------------------------\u001b[0m",
            "\u001b[0;31mTypeError\u001b[0m                                 Traceback (most recent call last)",
            "\u001b[0;32m<ipython-input-40-bc3e0d9a66d2>\u001b[0m in \u001b[0;36m<module>\u001b[0;34m()\u001b[0m\n\u001b[0;32m----> 1\u001b[0;31m \u001b[0mBook\u001b[0m\u001b[0;34m.\u001b[0m\u001b[0madd_book\u001b[0m\u001b[0;34m(\u001b[0m\u001b[0mname\u001b[0m\u001b[0;34m=\u001b[0m\u001b[0;34m'Stephen King'\u001b[0m\u001b[0;34m,\u001b[0m \u001b[0mtitle\u001b[0m\u001b[0;34m=\u001b[0m\u001b[0;34m'No it'\u001b[0m\u001b[0;34m)\u001b[0m\u001b[0;34m\u001b[0m\u001b[0;34m\u001b[0m\u001b[0m\n\u001b[0m",
            "\u001b[0;31mTypeError\u001b[0m: add_book() missing 1 required positional argument: 'self'"
          ]
        }
      ]
    },
    {
      "cell_type": "markdown",
      "metadata": {
        "id": "Jo38HN_NaE7g"
      },
      "source": [
        "Резюмируя вышесказанное:\n",
        "- класс - это общее лекало, по которому могут создаваться конкретные объекты (экземпляры класса). Т.е. он обладает общими свойствами, задает схему, а индивидуализация возможна уже на уровне объектов.\n",
        "- есть то, что принадлежит классу и передается по наследству всем его экземплярам. Есть то, что принадлежит только какому-то конкретному объекту класса."
      ]
    },
    {
      "cell_type": "markdown",
      "metadata": {
        "id": "0tSfGzZ27U8k"
      },
      "source": [
        "## Специальные методы\n",
        "\n",
        "Их два: конструктор (создание экземпляра) и деструктор (удаление экземпляра)."
      ]
    },
    {
      "cell_type": "markdown",
      "metadata": {
        "id": "AcfjKtyDbP7g"
      },
      "source": [
        "Что за функции с __ ?\n",
        "\n",
        "\n",
        "---\n",
        "\n",
        "\n",
        "\n",
        "Функция `__init__` возникает когда мы первый раз обращаемся к классу для создания экземпляра (например, `book1 = Book()`).\n",
        "\n",
        "Почти всегда при создании классов функция прописывается, потому что это очень удобно, в дальнейшем не придется повторяться и вводить атрибуты по отдельности. Назначение конструкторов — произвести первоначальную инициализацию объекта, заполнить нужные поля.\n",
        "\n",
        "Сейчас мы пропишем ее вручную, чтобы задать нужный нам функционал:\n",
        "1. поместим в нее счетчик `Book.book_count += 1`\n",
        "2. присовим объекту название, заменив None по умолчанию на именованный аргумент, переданный в скобках\n",
        "3. либо назначим объекту имя в виде порядкового номера, если имя не указывается\n",
        "\n",
        "\n",
        "---\n",
        "\n",
        "Функция `__del__` вызывается для удаления объекта. В Python состоянием памяти управляют т.н. сборщики мусора, которые удаляют объекты по мере их ненадобности. Но если мы хотим контролировать память сами и принудительно удалять, не дожидаясь сборщиков, то прописываем эту операцию. Функция будет ссылаться на объект, вызывающий деструктор (`self`)\n",
        "1. выведем на печать запись `Книга ... была удалена`, где вместо троеточия вызовем имя удаленного объекта (`self.name`)\n",
        "2. поместим в нее счетчик `Book.book_count -= 1`, который будет уменьшать количество книг\n",
        "\n",
        "\n",
        "\n"
      ]
    },
    {
      "cell_type": "code",
      "metadata": {
        "id": "d3RQDa1SbDTJ"
      },
      "source": [
        "class Book():\n",
        "  book_count = 0\n",
        "\n",
        "  # Создание конструктора\n",
        "  def __init__(self, name=None):\n",
        "    Book.book_count += 1\n",
        "    if name:\n",
        "      self.name = name\n",
        "    else:\n",
        "      self.name = str(Book.book_count)\n",
        "  \n",
        "  # Создание деструктора\n",
        "  def __del__(self):\n",
        "    print('Книга {} была удалена'.format(self.name))\n",
        "    Book.book_count -= 1"
      ],
      "execution_count": null,
      "outputs": []
    },
    {
      "cell_type": "markdown",
      "metadata": {
        "id": "AkF3Clj_ZLJe"
      },
      "source": [
        "Создадим книгу с названием \"Букварь\" и выведем на печать ее название и общее количество книг:"
      ]
    },
    {
      "cell_type": "code",
      "metadata": {
        "colab": {
          "base_uri": "https://localhost:8080/"
        },
        "id": "R0UH-2BzXg7X",
        "outputId": "9f3cde98-3c21-432d-9e65-749d1ea3a10c"
      },
      "source": [
        "book1 = Book('Букварь')\n",
        "\n",
        "print('book1 =', book1.name)\n",
        "print('Количество книг:', Book.book_count)"
      ],
      "execution_count": null,
      "outputs": [
        {
          "output_type": "stream",
          "name": "stdout",
          "text": [
            "book1 = Букварь\n",
            "Количество книг: 1\n"
          ]
        }
      ]
    },
    {
      "cell_type": "markdown",
      "metadata": {
        "id": "ltABs91yYIMe"
      },
      "source": [
        "Создадим еще одну книгу:"
      ]
    },
    {
      "cell_type": "code",
      "metadata": {
        "colab": {
          "base_uri": "https://localhost:8080/"
        },
        "id": "qJ8zbLPyYHVP",
        "outputId": "e0aa73f8-a577-4b7a-c578-8699e903d1db"
      },
      "source": [
        "book2 = Book()\n",
        "print('book2 =',book2.name)\n",
        "print('Количество книг:', Book.book_count)"
      ],
      "execution_count": null,
      "outputs": [
        {
          "output_type": "stream",
          "name": "stdout",
          "text": [
            "book2 = 2\n",
            "Количество книг: 2\n"
          ]
        }
      ]
    },
    {
      "cell_type": "markdown",
      "metadata": {
        "id": "pv9zmrNuYglA"
      },
      "source": [
        "Пришло время проверить функцию удаления книг, вызовем ее принудительно:"
      ]
    },
    {
      "cell_type": "code",
      "metadata": {
        "id": "Ltm0vlqY6Lue",
        "colab": {
          "base_uri": "https://localhost:8080/"
        },
        "outputId": "1a97bac2-b7d8-4995-d72d-a99f07ac5fb4"
      },
      "source": [
        "print('Количество книг до:', Book.book_count)\n",
        "\n",
        "print('Теперь удалим книги!')\n",
        "\n",
        "del book1\n",
        "del book2"
      ],
      "execution_count": null,
      "outputs": [
        {
          "output_type": "stream",
          "name": "stdout",
          "text": [
            "Количество книг до: 2\n",
            "Теперь удалим книги!\n"
          ]
        }
      ]
    },
    {
      "cell_type": "code",
      "metadata": {
        "colab": {
          "base_uri": "https://localhost:8080/"
        },
        "id": "3-qE7s72YO0x",
        "outputId": "4eeb092b-59b0-49e5-b6bd-fa230d3ab47f"
      },
      "source": [
        "print('Количество книг после:', Book.book_count)"
      ],
      "execution_count": null,
      "outputs": [
        {
          "output_type": "stream",
          "name": "stdout",
          "text": [
            "Количество книг после: 0\n"
          ]
        }
      ]
    },
    {
      "cell_type": "markdown",
      "metadata": {
        "id": "NU1-EDv8U7gb"
      },
      "source": [
        "## Создание собственного класса"
      ]
    },
    {
      "cell_type": "markdown",
      "metadata": {
        "id": "Wncu0cHhXGXa"
      },
      "source": [
        "Как создать свой класс?\n",
        "\n",
        "    - вводим ключевое слово class\n",
        "    - называем, принято писать с большой буквы\n",
        "    - ставим скобки и двоеточие\n",
        "\n",
        "На данный момент мы имеем пустой контейнер, который можем наполнять различными методами, свойствами, переменными.  Скопируем в него три наших функции, удалив `return` в конце каждой функции, т.к. он нам больше не нужен, по своей сути они стали методами. "
      ]
    },
    {
      "cell_type": "code",
      "metadata": {
        "id": "IIpO3e_S9J0_"
      },
      "source": [
        "class Person():  \n",
        "  \n",
        "  def my_name(name): # --------------------- Задаем функцию сохранения имени        \n",
        "    print('Меня зовут:', name)\n",
        "    #self.name = name\n",
        "\n",
        "  def my_age(age): # ----------------------- Задаем функцию сохранения возраста\n",
        "    print('Мой возраст:', age)\n",
        "    #self.age = age\n",
        "\n",
        "  def doing(name, age): # ------------------ Задаем функцию выполнения действий\n",
        "    print('Это', name, 'мне', age)\n",
        "    print('Я умею делать куртые вещи!')"
      ],
      "execution_count": null,
      "outputs": []
    },
    {
      "cell_type": "markdown",
      "metadata": {
        "id": "Q_B3mN-gbx35"
      },
      "source": [
        "Как пользоваться созданным контейнером? Надо создать объект (пример, экземпляр) нашего класса. Им станет переменная, с помощью которой мы можем обращаться к методам класса.\n",
        "\n",
        "**Объект** - это обычная переменная, представляющая собой контейнер с набором переменных и функций. Для каждого из них выделяется отдельное место в памяти, и они хранятся абсолютно независимо друг от друга."
      ]
    },
    {
      "cell_type": "code",
      "metadata": {
        "id": "xhXx_1VM93EP"
      },
      "source": [
        "person1 = Person()\n",
        "\n",
        "'''\n",
        "model = Sequential() работает аналогично. \n",
        "Мы создаем переменную model, она класса Sequential, \n",
        "и далее к переменной мы можем применить все методы класса Sequential\n",
        "например, model.add() один из них\n",
        "\n",
        "'''"
      ],
      "execution_count": null,
      "outputs": []
    },
    {
      "cell_type": "markdown",
      "metadata": {
        "id": "h32upWfeZIDT"
      },
      "source": [
        "Теперь, если мы напишем переменную и поставим `.`, нам станут доступны методы этого класса (их три: `doing, my_age, my_name`, появятся во всплывающем окне):"
      ]
    },
    {
      "cell_type": "code",
      "metadata": {
        "colab": {
          "base_uri": "https://localhost:8080/"
        },
        "id": "zMBMvWd0jS-H",
        "outputId": "f5877dc9-9bdb-407b-caa9-ebdb48968e2a"
      },
      "source": [
        "person1.my_name('Вася') # -- метод .my_name выводит имя, которое получает в качестве аргумента"
      ],
      "execution_count": null,
      "outputs": [
        {
          "output_type": "stream",
          "name": "stdout",
          "text": [
            "Меня зовут: Вася\n"
          ]
        }
      ]
    },
    {
      "cell_type": "markdown",
      "metadata": {
        "id": "8CLRlU20jlG6"
      },
      "source": [
        "Вроде как мы создали метод, который получает один аргумент и его же выдает. Но найдено 2, как так?\n",
        "\n",
        "**Нюанс ООП в Python:** любой метод должен принимать как минимум один аргумент. Даже если ему на вход по логике не требуется ничего подавать.\n",
        "Поэтому в каждом методе по умолчанию уже есть аргумент **self**, даже если мы не указываем его явно. Его смысл в том, грубо говоря, что он указывает сам на себя (а данном случае указывает на person1). \n"
      ]
    },
    {
      "cell_type": "code",
      "metadata": {
        "id": "MaQRZWV4k9ue"
      },
      "source": [
        "# Вносим коррективы\n",
        "\n",
        "class Person():  \n",
        "  \n",
        "  def my_name(self, name): # --------------------- Задаем функцию сохранения имени        \n",
        "    print('Меня зовут:', name)\n",
        "\n",
        "  def my_age(self, age): # ----------------------- Задаем функцию сохранения возраста\n",
        "    print('Мой возраст:', age)\n",
        "\n",
        "  def doing(self, name, age): # ------------------ Задаем функцию выполнения действий\n",
        "    print('Это', name, 'мне', age)\n",
        "    print('Я умею делать куртые вещи!')"
      ],
      "execution_count": null,
      "outputs": []
    },
    {
      "cell_type": "code",
      "metadata": {
        "id": "OX66__B6lSWM",
        "colab": {
          "base_uri": "https://localhost:8080/"
        },
        "outputId": "acae7cdf-27db-4aae-c22a-f115cc175266"
      },
      "source": [
        "person1 = Person() # -------- пересоздадим объект класса\n",
        "\n",
        "person1.my_name('Вася') # --- сейчас все сработает"
      ],
      "execution_count": null,
      "outputs": [
        {
          "output_type": "stream",
          "name": "stdout",
          "text": [
            "Меня зовут: Вася\n"
          ]
        }
      ]
    },
    {
      "cell_type": "markdown",
      "metadata": {
        "id": "lLdQibh6azYM"
      },
      "source": [
        "Агрумент `self` нужен для того, чтобы мы могли помещать в класс не только функции, но и переменные. То есть когда мы создаем экземпляр класса и помещаем в аргумент метода имя `Вася`, чтобы оно то же где-то сохранилось.\n",
        "\n",
        "Можно было оставить `return` и писать `name1 =person1.my_name('Вася')`, но в таком случае эта переменная самостоятельная, не в рамках нашего классе. Теряется смысл ООП.\n"
      ]
    },
    {
      "cell_type": "markdown",
      "metadata": {
        "id": "Yop_KV4zkuhP"
      },
      "source": [
        "Для решения этой задачи мы должны создать переменные внутри нашего класса. На примере `name`: пропишем `self.name = name ` и таким образом внутренней переменной присвоим то, что метод получает в скобках.\n",
        "\n",
        "Вместо `self` можно написать любое слово или набор букв, это не важно, главное чтобы во всех местах кода был этот же набор букв, но условились писать `self`. "
      ]
    },
    {
      "cell_type": "code",
      "metadata": {
        "id": "7vVK2WonkGRP"
      },
      "source": [
        "class Person():  \n",
        "  \n",
        "  def my_name(self, name):          \n",
        "    print('Меня зовут:', name)\n",
        "    self.name = name  # --- имя пользователя сохранится в переменной класса\n",
        "\n",
        "  def my_age(self, age):  \n",
        "    print('Мой возраст:', age)\n",
        "    self.age = age\n",
        "\n",
        "  # функцию перепишем так, чтобы она не получала аргументов на вход вообще, \n",
        "  # т.к. они уже сохранены в рамках класса\n",
        "  \n",
        "  def doing(self):  \n",
        "    print('Это', self.name, 'мне', self.age)\n",
        "    print('Я умею делать куртые вещи!')"
      ],
      "execution_count": null,
      "outputs": []
    },
    {
      "cell_type": "code",
      "metadata": {
        "colab": {
          "base_uri": "https://localhost:8080/"
        },
        "id": "w6LjBkzaiCas",
        "outputId": "7f3b7358-8e9d-4cf1-93f4-ab4291c22b23"
      },
      "source": [
        "person1 = Person() # -------- пересоздадим объект класса\n",
        "\n",
        "person1.my_name('Вася') # -- метод .my_name выводит имя, которое получает в качестве аргумента\n",
        "person1.my_age(23)  # ------ метод .my_age выводит возраст, который получает в качестве аргумента\n",
        "person1.doing() # ---------- метод .doing выводит имя, возраст, который хранятся в классе"
      ],
      "execution_count": null,
      "outputs": [
        {
          "output_type": "stream",
          "name": "stdout",
          "text": [
            "Меня зовут: Вася\n",
            "Мой возраст: 23\n",
            "Это Вася мне 23\n",
            "Я умею делать куртые вещи!\n"
          ]
        }
      ]
    },
    {
      "cell_type": "markdown",
      "metadata": {
        "id": "Ax7Sg7WZDBdy"
      },
      "source": [
        "Резюме: мы создали класс Person(), он же контейнер. В нем создали три метода, которые \n",
        "соответствуют прописанным функциям. \n",
        "\n",
        "При вызове методов `.my_name(), .my_age()` создаются переменные класса `self.name, self.age соотв.`, в них записываются аргументы, переданные методам при вызове.\n",
        "\n",
        "При вызове метода `.doing()` происходит обращение к уже записанным в классе переменным, и они выводятся на экран. Если попробовать вызвать его первым, то выдаст ошибку, т.к. он пытается обратиться к переменным, которые еще не созданы.\n"
      ]
    },
    {
      "cell_type": "markdown",
      "metadata": {
        "id": "T3uac6vsw-8Y"
      },
      "source": [
        "### Создание собственной функции в классе "
      ]
    },
    {
      "cell_type": "markdown",
      "metadata": {
        "id": "l5Un_-qakTXV"
      },
      "source": [
        "Еще усложним. Сделаем так, чтобы аргументы имени и возраста передавались сразу, когда мы создаем объект класса: `person3 = Person('Вася', 23)`, вместо трех строк кода (создание класса, вызов методов `.my_name` и `.my_age`)."
      ]
    },
    {
      "cell_type": "markdown",
      "metadata": {
        "id": "Zvf31CSUlXoj"
      },
      "source": [
        "Для этого надо переопределить логику работы метода `__init__`, который вызывается при создании класса Person(). Получится, что создание объекта класса автоматически запустит метод, который запросит при создании экземпляра аргументы и передаст их по адресу.\n",
        "\n",
        "Если `__init__` не прописывать, то экземпляр создается без дополнительных аргументов и операций. ТО есть по умолчанию этот метод просто создает объект и больше ничего.\n",
        "\n",
        "Другие методы, которые НЕ `__init__` НЕ запускаются автоматически при создании экземпляра класса."
      ]
    },
    {
      "cell_type": "markdown",
      "metadata": {
        "id": "yi6LJZcdroi2"
      },
      "source": [
        "**Важно!** Ко всем переменным и методам внутри класса мы обращаемся через `self`."
      ]
    },
    {
      "cell_type": "code",
      "metadata": {
        "id": "pi_erCaj-R12"
      },
      "source": [
        "# Создаем свой класс Person2\n",
        "\n",
        "class Person2():\n",
        "\n",
        "  def __init__(self, name, age): # Любые переменные кроме self потребуют значений \n",
        "\n",
        "    # Вызываем методы класса, с передачей аргументов, обращение через self т.к. внутри самой себя\n",
        "    self.my_name2(name) \n",
        "    self.my_age2(age) \n",
        "\n",
        "  def my_name2(self, name): \n",
        "    print('Меня зовут:', name)  \n",
        "    self.name = name  \n",
        "\n",
        "  def my_age2(self, age):\n",
        "    print('Мой возраст:', age) \n",
        "    self.age = age  \n",
        "\n",
        "  def doing2(self):\n",
        "    print('Это', self.name, 'мне', self.age)  \n",
        "    print('Я умею делать крутые вещи!')    "
      ],
      "execution_count": null,
      "outputs": []
    },
    {
      "cell_type": "markdown",
      "metadata": {
        "id": "0NCGyYtHtyb_"
      },
      "source": [
        "Проверим:"
      ]
    },
    {
      "cell_type": "code",
      "metadata": {
        "colab": {
          "base_uri": "https://localhost:8080/"
        },
        "id": "T8PV6neX--0H",
        "outputId": "93a9b98e-24b5-4f02-e4c4-72539bb29bd4"
      },
      "source": [
        "person2 = Person2('Коля', 26) # при создании экземпляра класса всплывает подсказка с кол-вом аргументов"
      ],
      "execution_count": null,
      "outputs": [
        {
          "output_type": "stream",
          "name": "stdout",
          "text": [
            "Меня зовут: Коля\n",
            "Мой возраст: 26\n"
          ]
        }
      ]
    },
    {
      "cell_type": "code",
      "metadata": {
        "colab": {
          "base_uri": "https://localhost:8080/"
        },
        "id": "mTs3NhZm_FNU",
        "outputId": "0e750e69-7867-4f1e-d67c-2ee6e45861b1"
      },
      "source": [
        "person2.doing2() # Вызываем метод doing()"
      ],
      "execution_count": null,
      "outputs": [
        {
          "output_type": "stream",
          "name": "stdout",
          "text": [
            "Это Коля мне 26\n",
            "Я умею делать крутые вещи!\n"
          ]
        }
      ]
    },
    {
      "cell_type": "markdown",
      "metadata": {
        "id": "aqT7ZIf3uxz1"
      },
      "source": [
        "Мы можем создать сколь угодно много объектов класса (ограничения только в мошности вашего железа), и каждый из них будет иметь свои характеристики, хранящиеся в классе. Прелесть в том, что все хранится по каждому экземпляру в одной переменной."
      ]
    },
    {
      "cell_type": "markdown",
      "metadata": {
        "id": "7AZO4xIFa8El"
      },
      "source": [
        "**Три основных парадигмы ООП:**\n",
        "- наследование\n",
        "- полиморфизм\n",
        "- инкапсуляция\n",
        "\n",
        "- абстракция (неактуально для Питона)"
      ]
    },
    {
      "cell_type": "markdown",
      "metadata": {
        "id": "9MpMIsH1JMYT"
      },
      "source": [
        "## Наследование\n"
      ]
    },
    {
      "cell_type": "markdown",
      "metadata": {
        "id": "IgVWWEJoMKjY"
      },
      "source": [
        "Это способность класса-потомка сохранять в себе свойства класса-родителя. Их можно дополнять, перезаписывать, но дублировать из класса родителя точно не требуется. \n",
        "\n",
        "Наследовать можно нескольким классам.\n",
        "\n",
        "Чтобы указать класс-родитель, при создании нового класса укажите его в скобках. Получим запись вида: `class Child(Parent)`."
      ]
    },
    {
      "cell_type": "markdown",
      "metadata": {
        "id": "lex0xTPiMwcB"
      },
      "source": [
        "Начнем с простого копирования и посмотрим, как упроститься запись впоследствии."
      ]
    },
    {
      "cell_type": "code",
      "metadata": {
        "id": "4i_uwTr__LWN"
      },
      "source": [
        "# Создаем класс Man - \"Отец\"\n",
        "\n",
        "class Man():\n",
        "\n",
        "  # определяем метод __init__() в рамках инициализатора, запустится сразу при вызове класса переменной\n",
        "  def __init__(self):\n",
        "    self.name = input('- Как тебя зовут?\\n- ') # Просим ввести имя и сохраняем в переменной класса\n",
        "    self.age = int(input('- Привет ' + self.name + '. А сколько тебе лет?\\n- ')) # Просим ввести возраст и сохраняем в переменной класса\n",
        "\n",
        "  # Создаем метод класса about_me(), который выводит информацию о пользователе, полученную выше\n",
        "  def about_me(self):\n",
        "    print('Мое имя:', self.name)\n",
        "    print('Мой возраст:', self.age)"
      ],
      "execution_count": null,
      "outputs": []
    },
    {
      "cell_type": "code",
      "metadata": {
        "colab": {
          "base_uri": "https://localhost:8080/"
        },
        "id": "ykjSSGBgBD3L",
        "outputId": "aeb9f145-e071-4b53-c978-7509c7e94a0c"
      },
      "source": [
        "man1 = Man() # Создаем объект класса man"
      ],
      "execution_count": null,
      "outputs": [
        {
          "name": "stdout",
          "output_type": "stream",
          "text": [
            "- Как тебя зовут?\n",
            "- Петя \n",
            "- Привет Петя . А сколько тебе лет?\n",
            "- 12\n"
          ]
        }
      ]
    },
    {
      "cell_type": "code",
      "metadata": {
        "colab": {
          "base_uri": "https://localhost:8080/",
          "height": 35
        },
        "id": "CN-QCun97WxW",
        "outputId": "ad4168af-90ad-4550-e0b1-4870f38e2b13"
      },
      "source": [
        "man1.name # обратимся к переменной класса"
      ],
      "execution_count": null,
      "outputs": [
        {
          "output_type": "execute_result",
          "data": {
            "application/vnd.google.colaboratory.intrinsic+json": {
              "type": "string"
            },
            "text/plain": [
              "'Петя '"
            ]
          },
          "metadata": {},
          "execution_count": 57
        }
      ]
    },
    {
      "cell_type": "code",
      "metadata": {
        "colab": {
          "base_uri": "https://localhost:8080/"
        },
        "id": "kSQIpoW5BFRM",
        "outputId": "9322fdd5-12bc-48f6-97e3-a45151f60a8c"
      },
      "source": [
        "man1.about_me() # Вызываем метод .about_me() класса Men"
      ],
      "execution_count": null,
      "outputs": [
        {
          "output_type": "stream",
          "name": "stdout",
          "text": [
            "Мое имя: Петя \n",
            "Мой возраст: 12\n"
          ]
        }
      ]
    },
    {
      "cell_type": "markdown",
      "metadata": {
        "id": "9WIX16B19CPo"
      },
      "source": [
        "Создадим класс для описания ребенка, у него будет тот же набор свойств, что и у родителя, и плюс свои собственные"
      ]
    },
    {
      "cell_type": "code",
      "metadata": {
        "id": "4h_k6u6sMB4S"
      },
      "source": [
        "import numpy as np"
      ],
      "execution_count": null,
      "outputs": []
    },
    {
      "cell_type": "code",
      "metadata": {
        "id": "YZrvB9n_8QmJ"
      },
      "source": [
        "# Создаем класс Man2 - \"Ребенок\" по образцу \"Отец\"\n",
        "\n",
        "class Man2():\n",
        "\n",
        "  # определяем метод __init__() в рамках инициализатора, запустится сразу при вызове класса переменной\n",
        "  def __init__(self):\n",
        "    self.name = input('- Как тебя зовут?\\n- ') # Просим ввести имя и сохраняем в переменной класса\n",
        "    self.age = int(input('- Привет.' + self.name + ' А сколько тебе лет?\\n- '))  \n",
        "\n",
        "  # Создаем метод класса about_me(), который выводит информацию о пользователе, полученную выше\n",
        "  def about_me(self):\n",
        "    print('Мое имя:', self.name)\n",
        "    print('Мой возраст:', self.age)\n",
        "\n",
        "  # Создаем метод класса count()\n",
        "  def count(self):\n",
        "    print('Я умею считать до 10, вот смотри:')\n",
        "    print(np.arange(1, 11))"
      ],
      "execution_count": null,
      "outputs": []
    },
    {
      "cell_type": "code",
      "metadata": {
        "colab": {
          "base_uri": "https://localhost:8080/"
        },
        "id": "p-0ZgcYt8bGG",
        "outputId": "cd30d614-02f3-45e8-b137-d2a72f6c63a3"
      },
      "source": [
        "child1 = Man2()"
      ],
      "execution_count": null,
      "outputs": [
        {
          "name": "stdout",
          "output_type": "stream",
          "text": [
            "- Как тебя зовут?\n",
            "- Вася\n",
            "- Привет.Вася А сколько тебе лет?\n",
            "- 15\n"
          ]
        }
      ]
    },
    {
      "cell_type": "code",
      "metadata": {
        "colab": {
          "base_uri": "https://localhost:8080/"
        },
        "id": "WfyLT9d48lxs",
        "outputId": "8ea73720-8501-41f8-9765-f99c960714a3"
      },
      "source": [
        "child1.about_me()"
      ],
      "execution_count": null,
      "outputs": [
        {
          "output_type": "stream",
          "name": "stdout",
          "text": [
            "Мое имя: Вася\n",
            "Мой возраст: 15\n"
          ]
        }
      ]
    },
    {
      "cell_type": "markdown",
      "metadata": {
        "id": "oQS6IPWvJajf"
      },
      "source": [
        "Пока что мы просто скопировали класс родителя и дописали в него дополнительный метод. \n",
        "\n",
        "Чтобы создать класс-потомок без повтора методов: при определении класса-потомка подаем ему в качестве аргумента класс-родитель. \n",
        "\n",
        "Это позволяет не дублировать одно и то же, и сокращать размер кода."
      ]
    },
    {
      "cell_type": "markdown",
      "metadata": {
        "id": "N0t2bjljCu75"
      },
      "source": [
        "**Важно!** Исходный класс-родитель никак не меняется при его использовании, и может быть подан в разные классы много раз."
      ]
    },
    {
      "cell_type": "markdown",
      "metadata": {
        "id": "lhBgr9hdEoob"
      },
      "source": [
        "Класс может наследовать методы нескольких классов, тогда они перечисляются через запятую:\n",
        "\n",
        "    class child_One(parent_Man, parent_Man2)"
      ]
    },
    {
      "cell_type": "code",
      "metadata": {
        "id": "G1BdqSxQB9cz"
      },
      "source": [
        "#  Создаем класс child_One - \"Ребенок\"\n",
        "\n",
        "class child_One(Man):\n",
        "    \n",
        "  # Создаем метод класса count(), он дополнит методы класса Man()\n",
        "  \n",
        "  def count(self):\n",
        "    print('Я умею считать до 10, вот смотри:')\n",
        "    print(np.arange(1, 11))"
      ],
      "execution_count": null,
      "outputs": []
    },
    {
      "cell_type": "code",
      "metadata": {
        "colab": {
          "base_uri": "https://localhost:8080/"
        },
        "id": "VPXByBnFK95m",
        "outputId": "7f62fa64-f73e-4413-f949-000a46b3517b"
      },
      "source": [
        "child1 = child_One() # Создаем объект класса child_One, вызовется метод __init__ класса Man()"
      ],
      "execution_count": null,
      "outputs": [
        {
          "name": "stdout",
          "output_type": "stream",
          "text": [
            "- Как тебя зовут?\n",
            "- Слава\n",
            "- Привет Слава. А сколько тебе лет?\n",
            "- 18\n"
          ]
        }
      ]
    },
    {
      "cell_type": "code",
      "metadata": {
        "colab": {
          "base_uri": "https://localhost:8080/"
        },
        "id": "5FkCN_HlLCC6",
        "outputId": "bd55c2e1-0041-4aca-c3fc-c0346ff1ba80"
      },
      "source": [
        "# Вызываем метод .about_me(), который унаследован от родителя, хотя в потомке явно не описани\n",
        "\n",
        "child1.about_me() "
      ],
      "execution_count": null,
      "outputs": [
        {
          "output_type": "stream",
          "name": "stdout",
          "text": [
            "Мое имя: Слава\n",
            "Мой возраст: 18\n"
          ]
        }
      ]
    },
    {
      "cell_type": "code",
      "metadata": {
        "colab": {
          "base_uri": "https://localhost:8080/"
        },
        "id": "H2Qd49ywLqV_",
        "outputId": "b7afc121-fc1e-4005-9ea8-a273c5f096b7"
      },
      "source": [
        "child1.count() # Вызываем метод .count(), принадлежащий классу-потомку"
      ],
      "execution_count": null,
      "outputs": [
        {
          "output_type": "stream",
          "name": "stdout",
          "text": [
            "Я умею считать до 10, вот смотри:\n",
            "[ 1  2  3  4  5  6  7  8  9 10]\n"
          ]
        }
      ]
    },
    {
      "cell_type": "markdown",
      "metadata": {
        "id": "7uzlrb3X7RQn"
      },
      "source": [
        "Если в `class child_One(Man)` переопределить метод `__init__`, тогда перестанет обращаться к методу родителя и начнет пользоваться своим, наследование прекратиться, потому что имена совпали и указания к действию перезаписались."
      ]
    },
    {
      "cell_type": "code",
      "metadata": {
        "id": "BULqnO2t7mJS"
      },
      "source": [
        "#  Изменяем класс child_One - \"Ребенок\"\n",
        "\n",
        "class child_One(Man):\n",
        "\n",
        "  def __init__(self):\n",
        "    print('Привет!')  \n",
        "  # Создаем метод класса count(), он дополнит методы класса Man()\n",
        "  \n",
        "  def count(self):\n",
        "    print('Я умею считать до 10, вот смотри:')\n",
        "    print(np.arange(1, 11))"
      ],
      "execution_count": null,
      "outputs": []
    },
    {
      "cell_type": "code",
      "metadata": {
        "colab": {
          "base_uri": "https://localhost:8080/"
        },
        "id": "99Q0AB8q7yw9",
        "outputId": "6e4153a4-20d3-40ba-e93b-12e1a870ac4e"
      },
      "source": [
        "child2 = child_One() # Запроса имени и возраста нет!"
      ],
      "execution_count": null,
      "outputs": [
        {
          "output_type": "stream",
          "name": "stdout",
          "text": [
            "Привет!\n"
          ]
        }
      ]
    },
    {
      "cell_type": "markdown",
      "metadata": {
        "id": "2QVJEZu1FDWu"
      },
      "source": [
        "## Полиморфизм\n",
        "\n"
      ]
    },
    {
      "cell_type": "markdown",
      "metadata": {
        "id": "_d5l_cNhBZ_n"
      },
      "source": [
        "Это возможность переопределять в потомках методы родительского класса, взять родительский метод и дополнить в него свой функционал."
      ]
    },
    {
      "cell_type": "markdown",
      "metadata": {
        "id": "S8Wz2HUg9glz"
      },
      "source": [
        "Если мы хотим, чтобы класс мог использовать метод `__init__` и свой, и родительского класса, укажем это при помощи ключевого слова `super()`. В качестве аргумента подадим ему название текущего класса, ключевое слово `self` и укажем, что это `__init__`."
      ]
    },
    {
      "cell_type": "code",
      "metadata": {
        "id": "qJoG4yaP9nGV"
      },
      "source": [
        "#  Изменяем класс child_One - \"Ребенок\"\n",
        "\n",
        "class child_One(Man):\n",
        "  \n",
        "  # Дополняем метод класса-родителя __init__()\n",
        "  def __init__(self):\n",
        "    super(child_One, self).__init__()\n",
        "    self.hobby = input('- Чем ты увлекаешься?\\n -')\n",
        "\n",
        "  def count(self):\n",
        "    print('Я умею считать до 10, вот смотри:')\n",
        "    print(np.arange(1, 11))"
      ],
      "execution_count": null,
      "outputs": []
    },
    {
      "cell_type": "code",
      "metadata": {
        "colab": {
          "base_uri": "https://localhost:8080/"
        },
        "id": "YtLO4huO-E2Z",
        "outputId": "023ba67d-1735-47fa-e880-fba73d9f3297"
      },
      "source": [
        "child3 = child_One()"
      ],
      "execution_count": null,
      "outputs": [
        {
          "name": "stdout",
          "output_type": "stream",
          "text": [
            "- Как тебя зовут?\n",
            "- Игорь\n",
            "- Привет Игорь. А сколько тебе лет?\n",
            "- 15\n",
            "- Чем ты увлекаешься?\n",
            " - Футбол\n"
          ]
        }
      ]
    },
    {
      "cell_type": "code",
      "metadata": {
        "colab": {
          "base_uri": "https://localhost:8080/",
          "height": 35
        },
        "id": "qzG5dW3s-SPf",
        "outputId": "d262ab5b-2fe5-4313-9475-5c88732b2cde"
      },
      "source": [
        "child3.hobby # посмотрим, что сохранилось в переменной"
      ],
      "execution_count": null,
      "outputs": [
        {
          "output_type": "execute_result",
          "data": {
            "application/vnd.google.colaboratory.intrinsic+json": {
              "type": "string"
            },
            "text/plain": [
              "' Футбол'"
            ]
          },
          "metadata": {},
          "execution_count": 74
        }
      ]
    },
    {
      "cell_type": "markdown",
      "metadata": {
        "id": "28nmgFOk-jJD"
      },
      "source": [
        "Аналогично мы можем использовать ключевое слово `super` для углубления других методов, не только `__init__`.\n",
        "\n",
        "Например, мы хотим чтобы метод `.about_me()` не только выводил имя и возраст, но еще и сообщал об увлечении."
      ]
    },
    {
      "cell_type": "code",
      "metadata": {
        "id": "7v-xGE3__LbA"
      },
      "source": [
        "#  Изменяем класс child_One - \"Ребенок\"\n",
        "\n",
        "class child_One(Man):\n",
        "\n",
        "  def __init__(self):\n",
        "    super(child_One, self).__init__()\n",
        "    self.hobby = input('- Чем ты увлекаешься?\\n -')\n",
        "\n",
        "  # Дополняем метод класса-родителя about_me()\n",
        "  def about_me(self):\n",
        "    super(child_One, self).about_me()\n",
        "    print('А еще мне нравится', self.hobby)  \n",
        "\n",
        "# Создаем метод класса about_me(), который выводит информацию о пользователе, полученную выше\n",
        "  def about_me(self):\n",
        "    print('Мое имя:', self.name)\n",
        "    print('Мой возраст:', self.age)\n",
        "\n",
        "  def count(self):\n",
        "    print('Я умею считать до 10, вот смотри:')\n",
        "    print(np.arange(1, 11))"
      ],
      "execution_count": null,
      "outputs": []
    },
    {
      "cell_type": "code",
      "metadata": {
        "colab": {
          "base_uri": "https://localhost:8080/"
        },
        "id": "1K-cjRpa_ljG",
        "outputId": "516a1192-c32a-40e7-9f45-c714e1898308"
      },
      "source": [
        "child4 = child_One() # создадим экземпляр класса"
      ],
      "execution_count": null,
      "outputs": [
        {
          "name": "stdout",
          "output_type": "stream",
          "text": [
            "- Как тебя зовут?\n",
            "- Илья\n",
            "- Привет Илья. А сколько тебе лет?\n",
            "- 25\n",
            "- Чем ты увлекаешься?\n",
            " -Шахматы\n"
          ]
        }
      ]
    },
    {
      "cell_type": "code",
      "metadata": {
        "colab": {
          "base_uri": "https://localhost:8080/"
        },
        "id": "fgJizNxO_sUC",
        "outputId": "f572fda5-4bf9-4658-8a42-91dcbc63b542"
      },
      "source": [
        "child4.about_me() # применим к экземпляру переопределенный метод .about_me() "
      ],
      "execution_count": null,
      "outputs": [
        {
          "output_type": "stream",
          "name": "stdout",
          "text": [
            "Мое имя: Илья\n",
            "Мой возраст: 25\n",
            "А еще мне нравится Шахматы\n"
          ]
        }
      ]
    },
    {
      "cell_type": "markdown",
      "metadata": {
        "id": "TIPLyUyyCmHX"
      },
      "source": [
        "Мы можем создать несколько потомков одного и того же класса, каждый со своими особенностями."
      ]
    },
    {
      "cell_type": "code",
      "metadata": {
        "id": "cJR8sknTMWdF"
      },
      "source": [
        "#  Создаем класс childTwo \"Внук\" - содержит в себе методы \"Отца\", \"Сына\"\n",
        "\n",
        "class child_Two(Man):\n",
        "\n",
        "  ''' \n",
        "  Класс возьмет от родителя Man() методы:\n",
        "\n",
        "  def __init__(self):\n",
        "    self.name = input('- Как тебя зовут?\\n- ')  \n",
        "    self.age = int(input('- Привет ' + self.name + '. А сколько тебе лет?\\n- '))  \n",
        "  \n",
        "  def about_me(self) \n",
        "    print('Мое имя:', self.name)\n",
        "    print('Мой возраст:', self.age)\n",
        "\n",
        "  '''\n",
        "  \n",
        "  def __init__(self): \n",
        "    super(child_Two, self).__init__() # указываем, что сохраняем __init__() от родителя, защищаем от перезаписи\n",
        "    self.hobby = input('- Чем ты увлекаешься?\\n- ') # и дополняем его новыми возможностями\n",
        "\n",
        "  def about_me(self):\n",
        "    super(child_Two, self).about_me() # указываем, что сохраняем __init__() от родителя, защищаем от перезаписи\n",
        "    print('И еще мне нравится', self.hobby) # и дополняем его новыми возможностями\n",
        "\n",
        "  def knowledge(self): # создаем новый метод класса count(), принадлежащий потомку потомка\n",
        "    print('Я очень много читаю. Я прочитал, наверное, сотню книг.')\n",
        "    print('Моя любимая: ', 'Евгений Онегин')"
      ],
      "execution_count": null,
      "outputs": []
    },
    {
      "cell_type": "code",
      "metadata": {
        "colab": {
          "base_uri": "https://localhost:8080/"
        },
        "id": "ERwhVcwKMsBF",
        "outputId": "47c4ef62-1333-44b5-d39c-dfeaad598efd"
      },
      "source": [
        "child5 = child_Two()"
      ],
      "execution_count": null,
      "outputs": [
        {
          "name": "stdout",
          "output_type": "stream",
          "text": [
            "- Как тебя зовут?\n",
            "- Костя\n",
            "- Привет Костя. А сколько тебе лет?\n",
            "- 15\n",
            "- Чем ты увлекаешься?\n",
            "- Лото\n"
          ]
        }
      ]
    },
    {
      "cell_type": "code",
      "metadata": {
        "colab": {
          "base_uri": "https://localhost:8080/"
        },
        "id": "uhaJlArIMt7y",
        "outputId": "851b1c25-f4bb-4f4d-c04a-ff0e368fc426"
      },
      "source": [
        "child5.about_me() # Вызываем метод about_me() потомка"
      ],
      "execution_count": null,
      "outputs": [
        {
          "output_type": "stream",
          "name": "stdout",
          "text": [
            "Мое имя: Костя\n",
            "Мой возраст: 15\n",
            "И еще мне нравится Лото\n"
          ]
        }
      ]
    },
    {
      "cell_type": "code",
      "metadata": {
        "colab": {
          "base_uri": "https://localhost:8080/"
        },
        "id": "1hdC9-zvM0Yu",
        "outputId": "9c6ba108-d702-4e36-d04d-5de8ebf2e14b"
      },
      "source": [
        "child5.knowledge() # Вызываем метод knowledge()"
      ],
      "execution_count": null,
      "outputs": [
        {
          "output_type": "stream",
          "name": "stdout",
          "text": [
            "Я очень много читаю. Я прочитал, наверное, сотню книг.\n",
            "Моя любимая:  Евгений Онегин\n"
          ]
        }
      ]
    },
    {
      "cell_type": "code",
      "metadata": {
        "id": "lIUS9Z8eM3FI"
      },
      "source": [
        "child5.hobby = 'Футбол' # изменяем увлечения, обращаемся к переменной и переписываем ее значение"
      ],
      "execution_count": null,
      "outputs": []
    },
    {
      "cell_type": "code",
      "metadata": {
        "colab": {
          "base_uri": "https://localhost:8080/"
        },
        "id": "xLlxrW48Ni7u",
        "outputId": "bfadf35b-8c7e-4089-e884-e6cea2622c6c"
      },
      "source": [
        "child5.about_me() # Снова вызываем метод about_me()"
      ],
      "execution_count": null,
      "outputs": [
        {
          "output_type": "stream",
          "name": "stdout",
          "text": [
            "Мое имя: Костя\n",
            "Мой возраст: 15\n",
            "И еще мне нравится Футбол\n"
          ]
        }
      ]
    },
    {
      "cell_type": "markdown",
      "metadata": {
        "id": "vRS7W0-OFNBK"
      },
      "source": [
        "## Инкапсуляция\n",
        "\n",
        "Защита данных. Возможность прямого обращения к переменным позволяет переназвать переменные. А это иногда нельзя, порушится код. Вы реализовали каую-то логику и отдали код другим разработчикам, например.\n"
      ]
    },
    {
      "cell_type": "code",
      "metadata": {
        "colab": {
          "base_uri": "https://localhost:8080/"
        },
        "id": "0np8eceDQqa-",
        "outputId": "9a66be54-6473-4ad7-940a-9ab2af2f99e5"
      },
      "source": [
        "print(child5.name) # мы можем обратиться к переменной класса напрямую, и переписать ее\n",
        "child5.name = 'Петр'\n",
        "print(child5.about_me())"
      ],
      "execution_count": null,
      "outputs": [
        {
          "output_type": "stream",
          "name": "stdout",
          "text": [
            "Костя\n",
            "Мое имя: Петр\n",
            "Мой возраст: 15\n",
            "И еще мне нравится Футбол\n",
            "None\n"
          ]
        }
      ]
    },
    {
      "cell_type": "markdown",
      "metadata": {
        "id": "GKIv5XhleBnd"
      },
      "source": [
        "Рассмотрим, как реализовать доступность атрибутов по области видимости. Как такового жесткого сокрытия как в С++ нет, но есть ряд договоренностей среди разработчиков.\n",
        "\n",
        "Три типа выделяется (обозначается количеством подчеркиваний):\n",
        "- public - доступ из любой точки программы\n",
        "- protected  - доступ есть, но лучше не использовать за пределами класса\n",
        "- private - приватная переменная, к которой нет доступа\n",
        "\n",
        "\n"
      ]
    },
    {
      "cell_type": "code",
      "metadata": {
        "id": "QFg86g4j9Dze"
      },
      "source": [
        "# Примеры записи\n",
        "\n",
        "class child_Two(Man):\n",
        "\n",
        "  # создаем атрибуты класса\n",
        "  def __init__(self):    \n",
        "    \n",
        "    self.hobby = 'Футбол' # ------ public - доступ из любой точки программы \n",
        "    self._hobby1 = 'Футбол' # ---- protected - доступ есть, но лучше не использовать за пределами класса  \n",
        "    self.__hobby2 = 'Футбол' # --- private - приватная переменная, к которой нет доступа"
      ],
      "execution_count": null,
      "outputs": []
    },
    {
      "cell_type": "markdown",
      "metadata": {
        "id": "PWwklpqS5oo7"
      },
      "source": [
        "Создадим класс, используя новые знания:"
      ]
    },
    {
      "cell_type": "code",
      "metadata": {
        "id": "g9wDz_dOSXmd"
      },
      "source": [
        "# создаем класс, в котором переменная видна только при прямом обращении, _hobby\n",
        "\n",
        "class child_Two(Man):\n",
        "\n",
        "  def __init__(self): \n",
        "    super(child_Two, self).__init__() # указываем, что сохраняем __init__() от родителя, защищаем от перезаписи\n",
        "    self._hobby = input('- Чем ты увлекаешься?\\n- ') # и дополняем его новыми возможностями\n",
        "\n",
        "  def about_me(self):\n",
        "    super(child_Two, self).about_me() # указываем, что сохраняем __init__() от родителя, защищаем от перезаписи\n",
        "    print('И еще мне нравится', self._hobby) # и дополняем его новыми возможностями\n",
        "\n",
        "  def knowledge(self): # создаем новый метод класса count(), принадлежащий потомку потомка\n",
        "    print('Я очень много читаю. Я прочитал, наверное, сотню книг.')\n",
        "    print('Моя любимая: ', 'Евгений Онегин')"
      ],
      "execution_count": null,
      "outputs": []
    },
    {
      "cell_type": "code",
      "metadata": {
        "colab": {
          "base_uri": "https://localhost:8080/"
        },
        "id": "P-rzIrymNvBc",
        "outputId": "5d44810a-4686-490c-d9a6-30b0050d988e"
      },
      "source": [
        "child6 = child_Two() # Создаем объект класса childThree"
      ],
      "execution_count": null,
      "outputs": [
        {
          "name": "stdout",
          "output_type": "stream",
          "text": [
            "- Как тебя зовут?\n",
            "- Андрей\n",
            "- Привет Андрей. А сколько тебе лет?\n",
            "- 42\n",
            "- Чем ты увлекаешься?\n",
            "- Хоккей\n"
          ]
        }
      ]
    },
    {
      "cell_type": "code",
      "metadata": {
        "id": "Ysmb3zWZS-JH"
      },
      "source": [
        "child6. # при выводе списка переменных и методов после точки - hobby отсутствует"
      ],
      "execution_count": null,
      "outputs": []
    },
    {
      "cell_type": "code",
      "metadata": {
        "id": "SUh1_ca2J9DZ"
      },
      "source": [
        "child6._hobby = 'Регби' # чтобы ее переписать мы обращаемся к ней напрямую"
      ],
      "execution_count": null,
      "outputs": []
    },
    {
      "cell_type": "code",
      "metadata": {
        "colab": {
          "base_uri": "https://localhost:8080/"
        },
        "id": "FMO7bs93Nxhy",
        "outputId": "c9ada629-e1dc-4b4b-9d53-586d29a59585"
      },
      "source": [
        "child6.about_me() # Вызываем метод about_me()"
      ],
      "execution_count": null,
      "outputs": [
        {
          "output_type": "stream",
          "name": "stdout",
          "text": [
            "Мое имя: Андрей\n",
            "Мой возраст: 42\n",
            "И еще мне нравится Регби\n"
          ]
        }
      ]
    },
    {
      "cell_type": "markdown",
      "metadata": {
        "id": "z450lnQHTpFx"
      },
      "source": [
        "Если мы хотим полностью запретить редактирование переменных, воспользуемся вторым способом."
      ]
    },
    {
      "cell_type": "code",
      "metadata": {
        "id": "VEByextrNkCC"
      },
      "source": [
        "#  Создаем класс, в котором запрещено обращение к переменной __hobby\n",
        "\n",
        "class child_Three(Man):\n",
        "  \n",
        "  # Переопределяем метод __init__()\n",
        "  def __init__(self):\n",
        "    super(child_Three, self).__init__() # Вызываем метод __init__() родителя\n",
        "    self.__hobby = input('- Чем ты увлекаешься?\\n- ') # Спрашиваем об увлечениях\n",
        "\n",
        "  # Переопределяем метод класса about_me(), который выводит информацию о пользователе\n",
        "  def about_me(self):\n",
        "    super(child_Three, self).about_me()\n",
        "    print('Мне нравится', self.__hobby)\n",
        "\n",
        "  def count(self): # создаем новый метод класса  \n",
        "    print('Я умею считать до 10. Смотри.')\n",
        "    print(np.arange(1,11))\n",
        "    print('А еще я каждый раз могу писать случайную цифру: ', self.get_rnd())\n",
        "    \n",
        "  def get_rnd(self): # создаем новый метод класса \n",
        "    return np.random.randint(10)"
      ],
      "execution_count": null,
      "outputs": []
    },
    {
      "cell_type": "code",
      "metadata": {
        "colab": {
          "base_uri": "https://localhost:8080/"
        },
        "id": "xwa67bbUUEd_",
        "outputId": "ac4f18e6-2484-44c5-d291-75f469cf4202"
      },
      "source": [
        "child7 = child_Three()"
      ],
      "execution_count": null,
      "outputs": [
        {
          "name": "stdout",
          "output_type": "stream",
          "text": [
            "- Как тебя зовут?\n",
            "- Гриша\n",
            "- Привет Гриша. А сколько тебе лет?\n",
            "- 31\n",
            "- Чем ты увлекаешься?\n",
            "- Математика\n"
          ]
        }
      ]
    },
    {
      "cell_type": "code",
      "metadata": {
        "colab": {
          "base_uri": "https://localhost:8080/"
        },
        "id": "49ZelKYgUWmK",
        "outputId": "33730a7e-2554-4411-9dc2-53c50d6f9d3a"
      },
      "source": [
        "child7.about_me()"
      ],
      "execution_count": null,
      "outputs": [
        {
          "output_type": "stream",
          "name": "stdout",
          "text": [
            "Мое имя: Гриша\n",
            "Мой возраст: 31\n",
            "Мне нравится Математика\n"
          ]
        }
      ]
    },
    {
      "cell_type": "code",
      "metadata": {
        "colab": {
          "base_uri": "https://localhost:8080/"
        },
        "id": "4DcLT8MBU9Ve",
        "outputId": "4332e519-df92-4a71-a5f2-6cfc364584b4"
      },
      "source": [
        "child7.count()"
      ],
      "execution_count": null,
      "outputs": [
        {
          "output_type": "stream",
          "name": "stdout",
          "text": [
            "Я умею считать до 10. Смотри.\n",
            "[ 1  2  3  4  5  6  7  8  9 10]\n",
            "А еще я каждый раз могу писать случайную цифру:  4\n"
          ]
        }
      ]
    },
    {
      "cell_type": "markdown",
      "metadata": {
        "id": "QOGIes-LZAmV"
      },
      "source": [
        "Переменная hobby стала недоступной, к ней вообще никак теперь нельзя обратиться."
      ]
    },
    {
      "cell_type": "code",
      "metadata": {
        "colab": {
          "base_uri": "https://localhost:8080/",
          "height": 163
        },
        "id": "Z6kwkQSiYmGh",
        "outputId": "83a536d8-d6da-495e-b41e-b133d3132d88"
      },
      "source": [
        "child7.hobby()"
      ],
      "execution_count": null,
      "outputs": [
        {
          "output_type": "error",
          "ename": "AttributeError",
          "evalue": "ignored",
          "traceback": [
            "\u001b[0;31m---------------------------------------------------------------------------\u001b[0m",
            "\u001b[0;31mAttributeError\u001b[0m                            Traceback (most recent call last)",
            "\u001b[0;32m<ipython-input-95-27430ab0b6b5>\u001b[0m in \u001b[0;36m<module>\u001b[0;34m()\u001b[0m\n\u001b[0;32m----> 1\u001b[0;31m \u001b[0mchild7\u001b[0m\u001b[0;34m.\u001b[0m\u001b[0mhobby\u001b[0m\u001b[0;34m(\u001b[0m\u001b[0;34m)\u001b[0m\u001b[0;34m\u001b[0m\u001b[0;34m\u001b[0m\u001b[0m\n\u001b[0m",
            "\u001b[0;31mAttributeError\u001b[0m: 'child_Three' object has no attribute 'hobby'"
          ]
        }
      ]
    },
    {
      "cell_type": "code",
      "metadata": {
        "colab": {
          "base_uri": "https://localhost:8080/",
          "height": 163
        },
        "id": "dVatTewlY8JQ",
        "outputId": "2748231b-8e98-4cfb-eebf-7e725b909842"
      },
      "source": [
        "child7._hobby()"
      ],
      "execution_count": null,
      "outputs": [
        {
          "output_type": "error",
          "ename": "AttributeError",
          "evalue": "ignored",
          "traceback": [
            "\u001b[0;31m---------------------------------------------------------------------------\u001b[0m",
            "\u001b[0;31mAttributeError\u001b[0m                            Traceback (most recent call last)",
            "\u001b[0;32m<ipython-input-97-48aeb7b3ce04>\u001b[0m in \u001b[0;36m<module>\u001b[0;34m()\u001b[0m\n\u001b[0;32m----> 1\u001b[0;31m \u001b[0mchild7\u001b[0m\u001b[0;34m.\u001b[0m\u001b[0m_hobby\u001b[0m\u001b[0;34m(\u001b[0m\u001b[0;34m)\u001b[0m\u001b[0;34m\u001b[0m\u001b[0;34m\u001b[0m\u001b[0m\n\u001b[0m",
            "\u001b[0;31mAttributeError\u001b[0m: 'child_Three' object has no attribute '_hobby'"
          ]
        }
      ]
    },
    {
      "cell_type": "code",
      "metadata": {
        "colab": {
          "base_uri": "https://localhost:8080/",
          "height": 163
        },
        "id": "OAG_Zl38Y-dQ",
        "outputId": "5cb0bf21-94ac-4311-8fe7-bfe96e2bae3e"
      },
      "source": [
        "child7.__hobby()"
      ],
      "execution_count": null,
      "outputs": [
        {
          "output_type": "error",
          "ename": "AttributeError",
          "evalue": "ignored",
          "traceback": [
            "\u001b[0;31m---------------------------------------------------------------------------\u001b[0m",
            "\u001b[0;31mAttributeError\u001b[0m                            Traceback (most recent call last)",
            "\u001b[0;32m<ipython-input-98-7ffc203b16ba>\u001b[0m in \u001b[0;36m<module>\u001b[0;34m()\u001b[0m\n\u001b[0;32m----> 1\u001b[0;31m \u001b[0mchild7\u001b[0m\u001b[0;34m.\u001b[0m\u001b[0m__hobby\u001b[0m\u001b[0;34m(\u001b[0m\u001b[0;34m)\u001b[0m\u001b[0;34m\u001b[0m\u001b[0;34m\u001b[0m\u001b[0m\n\u001b[0m",
            "\u001b[0;31mAttributeError\u001b[0m: 'child_Three' object has no attribute '__hobby'"
          ]
        }
      ]
    },
    {
      "cell_type": "markdown",
      "metadata": {
        "id": "eMxr2sT8asOz"
      },
      "source": [
        "**Важно!** Мы можем создать `child7.__hobby = 'Вальс'` и ошибку не выдаст. Но это будет новая переменная, к исходной `hobby` она отношения иметь не будет. Это связано с тем, что дописав новое значение после точки у экземпляра класса мы можем создавать новые переменные."
      ]
    },
    {
      "cell_type": "markdown",
      "metadata": {
        "id": "hd3bsdquVsB0"
      },
      "source": [
        "Если мы хотим закрыть метод, принцип действия аналогичен. Ставим _ перед названием метода."
      ]
    },
    {
      "cell_type": "code",
      "metadata": {
        "id": "p_sWQdr4gl0h",
        "colab": {
          "base_uri": "https://localhost:8080/"
        },
        "outputId": "6e04eaa0-479c-4952-994e-0060095fcbb7"
      },
      "source": [
        "child7.get_rnd() # пока открыт, можем обратиться к методу напрямую"
      ],
      "execution_count": null,
      "outputs": [
        {
          "output_type": "execute_result",
          "data": {
            "text/plain": [
              "3"
            ]
          },
          "metadata": {},
          "execution_count": 99
        }
      ]
    },
    {
      "cell_type": "code",
      "metadata": {
        "id": "BMvif9WaV6jg"
      },
      "source": [
        "#  Создаем класс child_Three\n",
        "class child_Three(Man):\n",
        "  \n",
        "  # Переопределяем метод __init__()\n",
        "  def __init__(self):\n",
        "    super(child_Three, self).__init__() # Вызываем метод __init__() родителя\n",
        "    self.__hobby = input('- Чем ты увлекаешься?\\n- ') # Спрашиваем об увлечениях\n",
        "\n",
        "  # Переопределяем метод класса about_me(), который выводит информацию о пользователе\n",
        "  def about_me(self):\n",
        "    super(child_Three, self).about_me()\n",
        "    print('Мне нравится', self.__hobby)\n",
        "\n",
        "  def count(self): # создаем новый метод класса count() \n",
        "    print('Я умею считать до 10. Смотри.')\n",
        "    print(np.arange(1,11))\n",
        "    print('А еще я каждый раз могу писать случайную цифру: ', self.get_rnd())\n",
        "    \n",
        "  def _get_rnd(self):\n",
        "    return np.random.randint(10)"
      ],
      "execution_count": null,
      "outputs": []
    },
    {
      "cell_type": "code",
      "metadata": {
        "colab": {
          "base_uri": "https://localhost:8080/"
        },
        "id": "zvdGiB4VZQ3B",
        "outputId": "9cf6fb96-c942-4b59-8391-4c20c10f6f74"
      },
      "source": [
        "child8 = child_Three()"
      ],
      "execution_count": null,
      "outputs": [
        {
          "name": "stdout",
          "output_type": "stream",
          "text": [
            "- Как тебя зовут?\n",
            "- Аркадий\n",
            "- Привет Аркадий. А сколько тебе лет?\n",
            "- 34\n",
            "- Чем ты увлекаешься?\n",
            "- Серфинг\n"
          ]
        }
      ]
    },
    {
      "cell_type": "code",
      "metadata": {
        "colab": {
          "base_uri": "https://localhost:8080/"
        },
        "id": "OyGsrpFUZzfc",
        "outputId": "dd863dd1-bb6d-4ed1-ea37-9baa8003babe"
      },
      "source": [
        "child8.about_me()"
      ],
      "execution_count": null,
      "outputs": [
        {
          "output_type": "stream",
          "name": "stdout",
          "text": [
            "Мое имя: Аркадий\n",
            "Мой возраст: 34\n",
            "Мне нравится Серфинг\n"
          ]
        }
      ]
    },
    {
      "cell_type": "code",
      "metadata": {
        "id": "ebzVvrc6Zby3"
      },
      "source": [
        "child8. # метод get_rnd() пропал из всплывающего меню после точки\n",
        "        # но если начать его набирать буквами - он проявится и сработает\n",
        "        # в этом разница с переменными"
      ],
      "execution_count": null,
      "outputs": []
    },
    {
      "cell_type": "markdown",
      "metadata": {
        "id": "S5QqfD2kaL9a"
      },
      "source": [
        "Чтобы скрыть метод полностью, ставим перед ним __\n",
        "\n",
        "В рамках класса и его логики он будет работать, но вызвать его отдельно больше не получится."
      ]
    },
    {
      "cell_type": "markdown",
      "metadata": {
        "id": "ckGbOvxS4xj1"
      },
      "source": [
        "# Объектно-ориентированное программирование как основа языка Python "
      ]
    },
    {
      "cell_type": "markdown",
      "metadata": {
        "id": "2Owg1LuN4xj3"
      },
      "source": [
        "Посмотрим, что на самом деле представляют из себя элементы языка Python, а именно: типы данных, функции, классы, модули и что можно из этого почерпнуть.\n",
        "\n",
        "Язык программирования Python является ярким примером объектно-ориентированного программирования, поскольку все, что мы можем увидеть в нем, - это объекты и классы."
      ]
    },
    {
      "cell_type": "markdown",
      "metadata": {
        "id": "5UVwFxsOjF2o"
      },
      "source": [
        "### Место в иерархии классов основных типов данных"
      ]
    },
    {
      "cell_type": "code",
      "metadata": {
        "id": "HIofNFVZxCVe",
        "colab": {
          "base_uri": "https://localhost:8080/"
        },
        "outputId": "641e1deb-f779-4670-c4b1-d0eb36d8500d"
      },
      "source": [
        "# Самый базовый класс\n",
        "\n",
        "print(object)"
      ],
      "execution_count": null,
      "outputs": [
        {
          "output_type": "stream",
          "name": "stdout",
          "text": [
            "<class 'object'>\n"
          ]
        }
      ]
    },
    {
      "cell_type": "code",
      "metadata": {
        "id": "X8Lp4I1exQt9",
        "colab": {
          "base_uri": "https://localhost:8080/"
        },
        "outputId": "4d2b774f-1535-4696-b29e-985f5a680799"
      },
      "source": [
        "# Посмотрим, какими встроенными атрибутами и методами обладает данный класс\n",
        "\n",
        "pprint(dir(object),   # название класса\n",
        "       compact=True,  # компактный ввод или нет\n",
        "       width=60)      # ширина окна вывода"
      ],
      "execution_count": null,
      "outputs": [
        {
          "output_type": "stream",
          "name": "stdout",
          "text": [
            "['__class__', '__delattr__', '__dir__', '__doc__', '__eq__',\n",
            " '__format__', '__ge__', '__getattribute__', '__gt__',\n",
            " '__hash__', '__init__', '__init_subclass__', '__le__',\n",
            " '__lt__', '__ne__', '__new__', '__reduce__',\n",
            " '__reduce_ex__', '__repr__', '__setattr__', '__sizeof__',\n",
            " '__str__', '__subclasshook__']\n"
          ]
        }
      ]
    },
    {
      "cell_type": "code",
      "metadata": {
        "id": "pDYW7qtexfgb",
        "colab": {
          "base_uri": "https://localhost:8080/"
        },
        "outputId": "bacdd839-2306-4b26-9ead-caf321811705"
      },
      "source": [
        "# Применим встроенный метод __doc__\n",
        "\n",
        "print(object.__doc__)"
      ],
      "execution_count": null,
      "outputs": [
        {
          "output_type": "stream",
          "name": "stdout",
          "text": [
            "The most base type\n"
          ]
        }
      ]
    },
    {
      "cell_type": "markdown",
      "metadata": {
        "id": "iESuJgyA6uFz"
      },
      "source": [
        "The most base type означает, что это самый базовый тип, от которого наследуют все остальные типы."
      ]
    },
    {
      "cell_type": "code",
      "metadata": {
        "id": "nDI1wDZmxqGM",
        "colab": {
          "base_uri": "https://localhost:8080/"
        },
        "outputId": "5f63e773-68bf-4cd7-b165-e6a80a0a0490"
      },
      "source": [
        "# Посмотрим на произвольный класс, например, строковые переменные\n",
        "print(str)\n",
        "\n",
        "# Воспользуемся методом __bases__, который покажет его предка\n",
        "print(str.__bases__)"
      ],
      "execution_count": null,
      "outputs": [
        {
          "output_type": "stream",
          "name": "stdout",
          "text": [
            "<class 'str'>\n",
            "(<class 'object'>,)\n"
          ]
        }
      ]
    },
    {
      "cell_type": "markdown",
      "metadata": {
        "id": "1zTC_RJb9DsL"
      },
      "source": [
        "## Типы данных и коллекций как классы"
      ]
    },
    {
      "cell_type": "markdown",
      "metadata": {
        "id": "Gg1TMUy37Ql9"
      },
      "source": [
        "Проверим наличие наследование при помощи функции `issubclass()`, где первым аргументом вписываем потомка, а вторым - предка. Если все верно, функиця вернет булево значение True: "
      ]
    },
    {
      "cell_type": "code",
      "metadata": {
        "id": "0b-aRk1Wx-vk",
        "colab": {
          "base_uri": "https://localhost:8080/"
        },
        "outputId": "5e6851ae-ca01-412b-d6fd-52d8815a5330"
      },
      "source": [
        "# Проверим наличие наследования \n",
        "\n",
        "issubclass(str, object)"
      ],
      "execution_count": null,
      "outputs": [
        {
          "output_type": "execute_result",
          "data": {
            "text/plain": [
              "True"
            ]
          },
          "metadata": {},
          "execution_count": 109
        }
      ]
    },
    {
      "cell_type": "markdown",
      "metadata": {
        "id": "LuE4o73G7so7"
      },
      "source": [
        "Далее пройдемся по известным нам типам данных и посмотрим, что они из себя представляют."
      ]
    },
    {
      "cell_type": "code",
      "metadata": {
        "id": "B3AKojKM8AOz"
      },
      "source": [
        "# Библиотека проверки прародителей типов данных\n",
        "import inspect"
      ],
      "execution_count": null,
      "outputs": []
    },
    {
      "cell_type": "code",
      "metadata": {
        "id": "SC5cxTn3yKxC",
        "colab": {
          "base_uri": "https://localhost:8080/"
        },
        "outputId": "0d07002c-b14e-4ff2-977d-0d827d52c38f"
      },
      "source": [
        "# Типы данных\n",
        "print(inspect.getmro(int))\n",
        "print(inspect.getmro(float))\n",
        "print(inspect.getmro(str))\n",
        "print()\n",
        "\n",
        "# Типы коллекций\n",
        "print(inspect.getmro(list))\n",
        "print(inspect.getmro(dict))\n",
        "print(inspect.getmro(tuple))\n",
        "print()"
      ],
      "execution_count": null,
      "outputs": [
        {
          "output_type": "stream",
          "name": "stdout",
          "text": [
            "(<class 'int'>, <class 'object'>)\n",
            "(<class 'float'>, <class 'object'>)\n",
            "(<class 'str'>, <class 'object'>)\n",
            "\n",
            "(<class 'list'>, <class 'object'>)\n",
            "(<class 'dict'>, <class 'object'>)\n",
            "(<class 'tuple'>, <class 'object'>)\n",
            "\n"
          ]
        }
      ]
    },
    {
      "cell_type": "markdown",
      "metadata": {
        "id": "6a9NC-bR8PkK"
      },
      "source": [
        "Видим, что предком указанных типов данных и коллекций является класс `object`."
      ]
    },
    {
      "cell_type": "code",
      "metadata": {
        "colab": {
          "base_uri": "https://localhost:8080/"
        },
        "id": "7brEvsml8ulz",
        "outputId": "5eccbb82-637f-498f-9cdb-2ab9750ac3b2"
      },
      "source": [
        "# Типы исключений, вложенность классов уже глубже\n",
        "\n",
        "print(inspect.getmro(Exception))"
      ],
      "execution_count": null,
      "outputs": [
        {
          "output_type": "stream",
          "name": "stdout",
          "text": [
            "(<class 'Exception'>, <class 'BaseException'>, <class 'object'>)\n"
          ]
        }
      ]
    },
    {
      "cell_type": "code",
      "metadata": {
        "id": "Y-L1w0Udy08i",
        "colab": {
          "base_uri": "https://localhost:8080/"
        },
        "outputId": "29a1eaa2-e1ff-4737-a9c6-9382c415ecf0"
      },
      "source": [
        "# Посмотрим на атрибуты и методы класса int\n",
        "\n",
        "pprint(dir(int),      # название класса\n",
        "       compact=True,  # компактный ввод или нет\n",
        "       width=60)      # ширина окна вывода"
      ],
      "execution_count": null,
      "outputs": [
        {
          "output_type": "stream",
          "name": "stdout",
          "text": [
            "['__abs__', '__add__', '__and__', '__bool__', '__ceil__',\n",
            " '__class__', '__delattr__', '__dir__', '__divmod__',\n",
            " '__doc__', '__eq__', '__float__', '__floor__',\n",
            " '__floordiv__', '__format__', '__ge__', '__getattribute__',\n",
            " '__getnewargs__', '__gt__', '__hash__', '__index__',\n",
            " '__init__', '__init_subclass__', '__int__', '__invert__',\n",
            " '__le__', '__lshift__', '__lt__', '__mod__', '__mul__',\n",
            " '__ne__', '__neg__', '__new__', '__or__', '__pos__',\n",
            " '__pow__', '__radd__', '__rand__', '__rdivmod__',\n",
            " '__reduce__', '__reduce_ex__', '__repr__', '__rfloordiv__',\n",
            " '__rlshift__', '__rmod__', '__rmul__', '__ror__',\n",
            " '__round__', '__rpow__', '__rrshift__', '__rshift__',\n",
            " '__rsub__', '__rtruediv__', '__rxor__', '__setattr__',\n",
            " '__sizeof__', '__str__', '__sub__', '__subclasshook__',\n",
            " '__truediv__', '__trunc__', '__xor__', 'bit_length',\n",
            " 'conjugate', 'denominator', 'from_bytes', 'imag',\n",
            " 'numerator', 'real', 'to_bytes']\n"
          ]
        }
      ]
    },
    {
      "cell_type": "code",
      "metadata": {
        "id": "KvPDeb6yzGBe",
        "colab": {
          "base_uri": "https://localhost:8080/"
        },
        "outputId": "7c78cfab-436e-451d-929d-390ebfc7c9ed"
      },
      "source": [
        "# Применим метод .to_bytes для примера\n",
        "\n",
        "a = 21\n",
        "a.to_bytes(4, 'big')"
      ],
      "execution_count": null,
      "outputs": [
        {
          "output_type": "execute_result",
          "data": {
            "text/plain": [
              "b'\\x00\\x00\\x00\\x15'"
            ]
          },
          "metadata": {},
          "execution_count": 115
        }
      ]
    },
    {
      "cell_type": "markdown",
      "metadata": {
        "id": "5pmRAllvjApo"
      },
      "source": [
        "## Функция как объект класса function() "
      ]
    },
    {
      "cell_type": "markdown",
      "metadata": {
        "id": "ZSf-o0iO9998"
      },
      "source": [
        "Создадим для примера примитивную функцию:"
      ]
    },
    {
      "cell_type": "code",
      "metadata": {
        "id": "4uQ5R-_mzdar"
      },
      "source": [
        "def func(a=1, b=2):\n",
        "  '''Возращает сумму чисел.'''\n",
        "  return a + b"
      ],
      "execution_count": null,
      "outputs": []
    },
    {
      "cell_type": "markdown",
      "metadata": {
        "id": "B_QOIKBt-L4M"
      },
      "source": [
        "Если вывести на печать функцию, а не вызывать ее, то мы увидим что она является экземпляром класса `function()`:"
      ]
    },
    {
      "cell_type": "code",
      "metadata": {
        "colab": {
          "base_uri": "https://localhost:8080/"
        },
        "id": "_aY7EQb2-Jcc",
        "outputId": "85ebcb35-b7d1-4eb0-a492-91633c26274a"
      },
      "source": [
        "print(func)"
      ],
      "execution_count": null,
      "outputs": [
        {
          "output_type": "stream",
          "name": "stdout",
          "text": [
            "<function func at 0x7fe35fba25f0>\n"
          ]
        }
      ]
    },
    {
      "cell_type": "markdown",
      "metadata": {
        "id": "0BqqtCHH-uqM"
      },
      "source": [
        "Посмотрим на ее атрибуты и методы через документацию:"
      ]
    },
    {
      "cell_type": "code",
      "metadata": {
        "id": "XVloSB7lzrwc",
        "colab": {
          "base_uri": "https://localhost:8080/"
        },
        "outputId": "6ae5fe91-95e9-44b8-8f62-03a6bd318efd"
      },
      "source": [
        "pprint(dir(func),     # название класса\n",
        "       compact=True,  # компактный ввод или нет\n",
        "       width=60)      # ширина окна вывода"
      ],
      "execution_count": null,
      "outputs": [
        {
          "output_type": "stream",
          "name": "stdout",
          "text": [
            "['__annotations__', '__call__', '__class__', '__closure__',\n",
            " '__code__', '__defaults__', '__delattr__', '__dict__',\n",
            " '__dir__', '__doc__', '__eq__', '__format__', '__ge__',\n",
            " '__get__', '__getattribute__', '__globals__', '__gt__',\n",
            " '__hash__', '__init__', '__init_subclass__',\n",
            " '__kwdefaults__', '__le__', '__lt__', '__module__',\n",
            " '__name__', '__ne__', '__new__', '__qualname__',\n",
            " '__reduce__', '__reduce_ex__', '__repr__', '__setattr__',\n",
            " '__sizeof__', '__str__', '__subclasshook__']\n"
          ]
        }
      ]
    },
    {
      "cell_type": "markdown",
      "metadata": {
        "id": "VFRiIH3l-6VQ"
      },
      "source": [
        "Обратимся к описанию функции, получим в выводе текст из комментария:"
      ]
    },
    {
      "cell_type": "code",
      "metadata": {
        "id": "My3B18Nfz26q",
        "colab": {
          "base_uri": "https://localhost:8080/"
        },
        "outputId": "91baa2a0-5aa5-4010-9cc4-c9f57d145504"
      },
      "source": [
        "print(func.__doc__)"
      ],
      "execution_count": null,
      "outputs": [
        {
          "output_type": "stream",
          "name": "stdout",
          "text": [
            "Возращает сумму чисел.\n"
          ]
        }
      ]
    },
    {
      "cell_type": "markdown",
      "metadata": {
        "id": "X8jdkWZZ_Pgd"
      },
      "source": [
        "Посмотрим принцип наследования:"
      ]
    },
    {
      "cell_type": "code",
      "metadata": {
        "id": "yCRTuxjC0KiH",
        "colab": {
          "base_uri": "https://localhost:8080/"
        },
        "outputId": "ab2cc74c-0847-4684-d8ee-723f52ac141f"
      },
      "source": [
        "print(func.__class__.__mro__)"
      ],
      "execution_count": null,
      "outputs": [
        {
          "output_type": "stream",
          "name": "stdout",
          "text": [
            "(<class 'function'>, <class 'object'>)\n"
          ]
        }
      ]
    },
    {
      "cell_type": "markdown",
      "metadata": {
        "id": "kAdU90D_mwNW"
      },
      "source": [
        "## Классы как классы"
      ]
    },
    {
      "cell_type": "markdown",
      "metadata": {
        "id": "fZcQmlLa_jG1"
      },
      "source": [
        "Звучит забавно, но все объекты в Python являются объектами какого-нибудь класса. Создадим класс:"
      ]
    },
    {
      "cell_type": "code",
      "metadata": {
        "id": "5E6rI4tg0WOe"
      },
      "source": [
        "class MyCls:\n",
        "  pass"
      ],
      "execution_count": null,
      "outputs": []
    },
    {
      "cell_type": "markdown",
      "metadata": {
        "id": "LZc803m-_t3d"
      },
      "source": [
        "Проинспектируем его, убедимся что созданный класс наследуется напрямую от базового класса `object()`:"
      ]
    },
    {
      "cell_type": "code",
      "metadata": {
        "id": "SntEAD800d1x",
        "colab": {
          "base_uri": "https://localhost:8080/"
        },
        "outputId": "dc7e8520-5038-436b-f18d-80b322e1996a"
      },
      "source": [
        "print(inspect.getmro(MyCls))"
      ],
      "execution_count": null,
      "outputs": [
        {
          "output_type": "stream",
          "name": "stdout",
          "text": [
            "(<class '__main__.MyCls'>, <class 'object'>)\n"
          ]
        }
      ]
    },
    {
      "cell_type": "markdown",
      "metadata": {
        "id": "AGcnGanSnOiP"
      },
      "source": [
        "## Модули как объекты класса module()"
      ]
    },
    {
      "cell_type": "markdown",
      "metadata": {
        "id": "UvYGH_1DABn0"
      },
      "source": [
        "Импортируем некий модуль, например, математику:"
      ]
    },
    {
      "cell_type": "code",
      "metadata": {
        "id": "EVgW_5M80tuB"
      },
      "source": [
        "import math"
      ],
      "execution_count": null,
      "outputs": []
    },
    {
      "cell_type": "markdown",
      "metadata": {
        "id": "e0eaxqWFAJZM"
      },
      "source": [
        "Если мы попробуем вывести модуль на печать, то функция print() обратится к методу класса `__str__`, который скажет функции, что выводить:"
      ]
    },
    {
      "cell_type": "code",
      "metadata": {
        "id": "5nJ1RImz0vka",
        "colab": {
          "base_uri": "https://localhost:8080/"
        },
        "outputId": "ee80c897-a1d9-4fab-930b-f275aa64720c"
      },
      "source": [
        "print(math)"
      ],
      "execution_count": null,
      "outputs": [
        {
          "output_type": "stream",
          "name": "stdout",
          "text": [
            "<module 'math' (built-in)>\n"
          ]
        }
      ]
    },
    {
      "cell_type": "markdown",
      "metadata": {
        "id": "YRu2BV_VA489"
      },
      "source": [
        "Посмотрим, от кого наследует этот объект:"
      ]
    },
    {
      "cell_type": "code",
      "metadata": {
        "id": "V8mFlQ1g00-0",
        "colab": {
          "base_uri": "https://localhost:8080/"
        },
        "outputId": "6f90acbb-44aa-45a7-a686-e9a2b5871ab1"
      },
      "source": [
        "print(math.__class__.__mro__)"
      ],
      "execution_count": null,
      "outputs": [
        {
          "output_type": "stream",
          "name": "stdout",
          "text": [
            "(<class 'module'>, <class 'object'>)\n"
          ]
        }
      ]
    },
    {
      "cell_type": "markdown",
      "metadata": {
        "id": "fUnnR5N3n2JZ"
      },
      "source": [
        "## Пример глубокой иерархии классов\n",
        "\n",
        "Речь о непрямом наследовании от базового класса. Рассмотрим известные нам исключения языка Python.\n",
        "\n"
      ]
    },
    {
      "cell_type": "markdown",
      "metadata": {
        "id": "f4RkAXvxo_Xj"
      },
      "source": [
        "\n",
        "\n",
        "![alt text](https://drive.google.com/uc?id=1rW8TQ1LMsywBdJ8tlRNoJDKxRGj8VYME)"
      ]
    },
    {
      "cell_type": "markdown",
      "metadata": {
        "id": "ieoWfmooBWVO"
      },
      "source": [
        "Переберем последовательно все уровни наследования `KeyError`:"
      ]
    },
    {
      "cell_type": "code",
      "metadata": {
        "id": "fp97dybI1DnC",
        "colab": {
          "base_uri": "https://localhost:8080/"
        },
        "outputId": "258eede5-1dd9-438b-b596-a853a3432774"
      },
      "source": [
        "for cl in inspect.getmro(KeyError):\n",
        "  print(cl)"
      ],
      "execution_count": null,
      "outputs": [
        {
          "output_type": "stream",
          "name": "stdout",
          "text": [
            "<class 'KeyError'>\n",
            "<class 'LookupError'>\n",
            "<class 'Exception'>\n",
            "<class 'BaseException'>\n",
            "<class 'object'>\n"
          ]
        }
      ]
    },
    {
      "cell_type": "markdown",
      "metadata": {
        "id": "t6OMMaNB24jn"
      },
      "source": [
        "# Плюсы и минусы объектно-ориентированного программирования\n",
        "\n",
        "**(+) Плюсы:**\n",
        "\n",
        "*   Уменьшение времени на разработку за счет  повторного использования кода: передача готового класса с документацией по взаимодействию с его методами и атрибутами. Уход от необходимости разбираться в деталях реализации\n",
        "*   Создание унифицированных решений для разных типов входных данных за счет использования полиморфизма\n",
        "*   Читаемый и гибкий код\n",
        "*   Удобство исправления ошибок при использовании классов для решения конкретной подзадачи в крупном проекте. Локализация кода и данных\n",
        "*   Повышение уровня безопасности за счет использования инкапсуляции критичных данных \n",
        "\n",
        "**(-) Минусы:**\n",
        "\n",
        "\n",
        "*   Сложность отслеживания структур классов при возрастании их количества и наследовании\n",
        "*   Необходимость в детальной проработке структуры программы перед началом разработки. Проектирование классов куда более сложная задача, чем их использование\n",
        "*   Оценка адекватности применения объектно-ориентированного стиля в разных задачах может показаться сложной для начинающих разработчиков"
      ]
    }
  ]
}